{
 "cells": [
  {
   "cell_type": "markdown",
   "metadata": {
    "lines_to_next_cell": 2,
    "toc": true
   },
   "source": [
    "<h1>Table of Contents<span class=\"tocSkip\"></span></h1>\n",
    "<div class=\"toc\"><ul class=\"toc-item\"><li><span><a href=\"#Scikit-learn\" data-toc-modified-id=\"Scikit-learn-1\"><span class=\"toc-item-num\">1&nbsp;&nbsp;</span>Scikit-learn</a></span><ul class=\"toc-item\"><li><span><a href=\"#Transforming-the-outcome/target\" data-toc-modified-id=\"Transforming-the-outcome/target-1.1\"><span class=\"toc-item-num\">1.1&nbsp;&nbsp;</span>Transforming the outcome/target</a></span></li><li><span><a href=\"#Transforming-the-predictors\" data-toc-modified-id=\"Transforming-the-predictors-1.2\"><span class=\"toc-item-num\">1.2&nbsp;&nbsp;</span>Transforming the predictors</a></span></li></ul></li><li><span><a href=\"#The-methods\" data-toc-modified-id=\"The-methods-2\"><span class=\"toc-item-num\">2&nbsp;&nbsp;</span>The methods</a></span><ul class=\"toc-item\"><li><span><a href=\"#A-quick-example\" data-toc-modified-id=\"A-quick-example-2.1\"><span class=\"toc-item-num\">2.1&nbsp;&nbsp;</span>A quick example</a></span></li></ul></li><li><span><a href=\"#A-data-analytic-example\" data-toc-modified-id=\"A-data-analytic-example-3\"><span class=\"toc-item-num\">3&nbsp;&nbsp;</span>A data analytic example</a></span><ul class=\"toc-item\"><li><span><a href=\"#Visualizing-a-decision-tree\" data-toc-modified-id=\"Visualizing-a-decision-tree-3.1\"><span class=\"toc-item-num\">3.1&nbsp;&nbsp;</span>Visualizing a decision tree</a></span></li><li><span><a href=\"#Cross-validation\" data-toc-modified-id=\"Cross-validation-3.2\"><span class=\"toc-item-num\">3.2&nbsp;&nbsp;</span>Cross-validation</a></span></li><li><span><a href=\"#Improving-models-through-cross-validation\" data-toc-modified-id=\"Improving-models-through-cross-validation-3.3\"><span class=\"toc-item-num\">3.3&nbsp;&nbsp;</span>Improving models through cross-validation</a></span></li><li><span><a href=\"#Feature-selection\" data-toc-modified-id=\"Feature-selection-3.4\"><span class=\"toc-item-num\">3.4&nbsp;&nbsp;</span>Feature selection</a></span></li></ul></li><li><span><a href=\"#Logistic-regression\" data-toc-modified-id=\"Logistic-regression-4\"><span class=\"toc-item-num\">4&nbsp;&nbsp;</span>Logistic regression</a></span></li><li><span><a href=\"#Unsupervised-learning\" data-toc-modified-id=\"Unsupervised-learning-5\"><span class=\"toc-item-num\">5&nbsp;&nbsp;</span>Unsupervised learning</a></span></li></ul></div>"
   ]
  },
  {
   "cell_type": "markdown",
   "metadata": {},
   "source": [
    "# Machine Learning using Python\n",
    "\n",
    "## Scikit-learn\n",
    "\n",
    "Scikit-learn (`sklearn`) is the main Python package for machine learning. It is a widely-used and well-regarded package. However, there are a couple of challenges to using it given the usual `pandas`-based data munging pipeline. \n",
    "\n",
    "1. `sklearn` requires that all inputs be numeric, and in fact, `numpy` arrays.\n",
    "1. `sklearn` requires that all categorical variables by replaced by 0/1 dummy variables\n",
    "1. `sklearn` requires us to separate the predictors from the outcome. We need to have one `X` matrix for the predictors and one `y` vector for the outcome.\n",
    "\n",
    "The big issue, of course, is the first point. Given we used `pandas` precisely because we wanted to be able to keep heterogenous data. We have to be able to convert non-numeric data to numeric. `pandas` does help us out with this problem. \n",
    "\n",
    "1. First of all, we know that all `pandas` Series and DataFrame objects can be converted to `numpy` arrays using the `values` or `to_numpy` functions. \n",
    "1. Second, we can easily extract a single variable from the data set using either the usual extracton methods or the \n",
    "`pop` function. \n",
    "1. Third, `pandas` gives us a way to convert all categorical values to numeric dummy variables using the `get_dummies` function. This is actually a more desirable solution than what you will see in cyberspace, which is to use the \n",
    "`OneHotEncoder` function from `sklearn`. \n",
    "    + This is generally fine since many machine learning models look for interactions internally and don't need them to be overtly specified. The main exceptions to this are linear and logistic regression. For those, we can use the formula methods described in the Statistical Modeling module to generate the appropriately transformed design matrix.\n",
    "    + If the outcome variable is not numeric, we can `LabelEncoder` function from the `sklearn.preprocessing` submodule to convert it. \n",
    "\n",
    "I just threw a bunch of jargon at you. Let's see what this means.\n",
    "\n",
    "### Transforming the outcome/target"
   ]
  },
  {
   "cell_type": "code",
   "execution_count": 1,
   "metadata": {
    "lines_to_next_cell": 2,
    "name": "05-python-learning-1"
   },
   "outputs": [
    {
     "data": {
      "text/html": [
       "<div>\n",
       "<style scoped>\n",
       "    .dataframe tbody tr th:only-of-type {\n",
       "        vertical-align: middle;\n",
       "    }\n",
       "\n",
       "    .dataframe tbody tr th {\n",
       "        vertical-align: top;\n",
       "    }\n",
       "\n",
       "    .dataframe thead th {\n",
       "        text-align: right;\n",
       "    }\n",
       "</style>\n",
       "<table border=\"1\" class=\"dataframe\">\n",
       "  <thead>\n",
       "    <tr style=\"text-align: right;\">\n",
       "      <th></th>\n",
       "      <th>Sepal.Length</th>\n",
       "      <th>Sepal.Width</th>\n",
       "      <th>Petal.Length</th>\n",
       "      <th>Petal.Width</th>\n",
       "      <th>Species</th>\n",
       "    </tr>\n",
       "  </thead>\n",
       "  <tbody>\n",
       "    <tr>\n",
       "      <th>0</th>\n",
       "      <td>5.1</td>\n",
       "      <td>3.5</td>\n",
       "      <td>1.4</td>\n",
       "      <td>0.2</td>\n",
       "      <td>setosa</td>\n",
       "    </tr>\n",
       "    <tr>\n",
       "      <th>1</th>\n",
       "      <td>4.9</td>\n",
       "      <td>3.0</td>\n",
       "      <td>1.4</td>\n",
       "      <td>0.2</td>\n",
       "      <td>setosa</td>\n",
       "    </tr>\n",
       "    <tr>\n",
       "      <th>2</th>\n",
       "      <td>4.7</td>\n",
       "      <td>3.2</td>\n",
       "      <td>1.3</td>\n",
       "      <td>0.2</td>\n",
       "      <td>setosa</td>\n",
       "    </tr>\n",
       "    <tr>\n",
       "      <th>3</th>\n",
       "      <td>4.6</td>\n",
       "      <td>3.1</td>\n",
       "      <td>1.5</td>\n",
       "      <td>0.2</td>\n",
       "      <td>setosa</td>\n",
       "    </tr>\n",
       "    <tr>\n",
       "      <th>4</th>\n",
       "      <td>5.0</td>\n",
       "      <td>3.6</td>\n",
       "      <td>1.4</td>\n",
       "      <td>0.2</td>\n",
       "      <td>setosa</td>\n",
       "    </tr>\n",
       "  </tbody>\n",
       "</table>\n",
       "</div>"
      ],
      "text/plain": [
       "   Sepal.Length  Sepal.Width  Petal.Length  Petal.Width Species\n",
       "0           5.1          3.5           1.4          0.2  setosa\n",
       "1           4.9          3.0           1.4          0.2  setosa\n",
       "2           4.7          3.2           1.3          0.2  setosa\n",
       "3           4.6          3.1           1.5          0.2  setosa\n",
       "4           5.0          3.6           1.4          0.2  setosa"
      ]
     },
     "execution_count": 1,
     "metadata": {},
     "output_type": "execute_result"
    }
   ],
   "source": [
    "import numpy as np\n",
    "import pandas as pd\n",
    "import sklearn\n",
    "import statsmodels.api as sm\n",
    "import matplotlib.pyplot as plt\n",
    "import seaborn as sns\n",
    "\n",
    "iris = sm.datasets.get_rdataset('iris').data\n",
    "iris.head()"
   ]
  },
  {
   "cell_type": "markdown",
   "metadata": {},
   "source": [
    "Let's hit the first issue first. We need to separate out the outcome (the variable we want to predict) from the predictors (in this case the sepal and petal measurements). "
   ]
  },
  {
   "cell_type": "code",
   "execution_count": 2,
   "metadata": {
    "name": "05-python-learning-2"
   },
   "outputs": [],
   "source": [
    "y = iris['Species']\n",
    "X = iris.drop('Species', axis = 1) # drops column, makes a copy"
   ]
  },
  {
   "cell_type": "markdown",
   "metadata": {},
   "source": [
    "Another way to do this is "
   ]
  },
  {
   "cell_type": "code",
   "execution_count": 3,
   "metadata": {
    "name": "05-python-learning-3"
   },
   "outputs": [],
   "source": [
    "y = iris.pop('Species')"
   ]
  },
  {
   "cell_type": "markdown",
   "metadata": {},
   "source": [
    "If you look at this, `iris` now only has 4 columns. So we could just use `iris` after the `pop` application, as the predictor set"
   ]
  },
  {
   "cell_type": "markdown",
   "metadata": {},
   "source": [
    "We still have to update `y` to become numeric. This is where the `sklearn` functions start to be handy"
   ]
  },
  {
   "cell_type": "code",
   "execution_count": 4,
   "metadata": {
    "name": "05-python-learning-4"
   },
   "outputs": [
    {
     "data": {
      "text/plain": [
       "array([0, 0, 0, 0, 0, 0, 0, 0, 0, 0, 0, 0, 0, 0, 0, 0, 0, 0, 0, 0, 0, 0,\n",
       "       0, 0, 0, 0, 0, 0, 0, 0, 0, 0, 0, 0, 0, 0, 0, 0, 0, 0, 0, 0, 0, 0,\n",
       "       0, 0, 0, 0, 0, 0, 1, 1, 1, 1, 1, 1, 1, 1, 1, 1, 1, 1, 1, 1, 1, 1,\n",
       "       1, 1, 1, 1, 1, 1, 1, 1, 1, 1, 1, 1, 1, 1, 1, 1, 1, 1, 1, 1, 1, 1,\n",
       "       1, 1, 1, 1, 1, 1, 1, 1, 1, 1, 1, 1, 2, 2, 2, 2, 2, 2, 2, 2, 2, 2,\n",
       "       2, 2, 2, 2, 2, 2, 2, 2, 2, 2, 2, 2, 2, 2, 2, 2, 2, 2, 2, 2, 2, 2,\n",
       "       2, 2, 2, 2, 2, 2, 2, 2, 2, 2, 2, 2, 2, 2, 2, 2, 2, 2])"
      ]
     },
     "execution_count": 4,
     "metadata": {},
     "output_type": "execute_result"
    }
   ],
   "source": [
    "from sklearn.preprocessing import LabelEncoder\n",
    "le = LabelEncoder()\n",
    "y = le.fit_transform(y)\n",
    "y"
   ]
  },
  {
   "cell_type": "markdown",
   "metadata": {},
   "source": [
    "Let's talk about this code, since it's very typical of the way the `sklearn`\n",
    "code works. First, we import a method (`LabelEncoder`) from the appropriate\n",
    "`sklearn` module. The second line, `le = LabelEncoder()` works to \"turn on\" the\n",
    "method. This is like taking a power tool off the shelf and plugging it in to a\n",
    "socket. It's now ready to work. The third line does the actual work.  The\n",
    "`fit_transform` function transforms the data you input into it based on the\n",
    "method it is then attached to.\n",
    "\n",
    "> Let's make a quick analogy. You can plug in both a power washer and a\n",
    "jackhammer to get them ready to go. You can then apply each of them to your\n",
    "driveway. They \"transform\" the driveway in different ways depending on which\n",
    "tool is used. The washer would \"transform\" the driveway by cleaning it, while\n",
    "the jackhammer would transform the driveway by breaking it."
   ]
  },
  {
   "cell_type": "markdown",
   "metadata": {},
   "source": [
    "There's an interesting invisible quirk to the code, though. The object `le` also got transformed during this \n",
    "process. There were pieces added to it during the `fit_transform` process. "
   ]
  },
  {
   "cell_type": "code",
   "execution_count": 5,
   "metadata": {
    "name": "05-python-learning-5"
   },
   "outputs": [],
   "source": [
    "le = LabelEncoder()\n",
    "d1 = dir(le)"
   ]
  },
  {
   "cell_type": "code",
   "execution_count": 6,
   "metadata": {
    "name": "05-python-learning-6"
   },
   "outputs": [
    {
     "data": {
      "text/plain": [
       "{'classes_'}"
      ]
     },
     "execution_count": 6,
     "metadata": {},
     "output_type": "execute_result"
    }
   ],
   "source": [
    "y = le.fit_transform( pd.read_csv('data/iris.csv')['species'])\n",
    "d2 = dir(le)\n",
    "set(d2).difference(set(d1)) # set of things in d2 but not in d1"
   ]
  },
  {
   "cell_type": "markdown",
   "metadata": {},
   "source": [
    "So we see that there is a new component added, called `classes_`. "
   ]
  },
  {
   "cell_type": "code",
   "execution_count": 7,
   "metadata": {
    "name": "05-python-learning-7"
   },
   "outputs": [
    {
     "data": {
      "text/plain": [
       "array(['setosa', 'versicolor', 'virginica'], dtype=object)"
      ]
     },
     "execution_count": 7,
     "metadata": {},
     "output_type": "execute_result"
    }
   ],
   "source": [
    "le.classes_"
   ]
  },
  {
   "cell_type": "markdown",
   "metadata": {},
   "source": [
    "So the original labels aren't destroyed; they are being stored. This can be useful."
   ]
  },
  {
   "cell_type": "code",
   "execution_count": 8,
   "metadata": {
    "name": "05-python-learning-8"
   },
   "outputs": [
    {
     "data": {
      "text/plain": [
       "array(['setosa', 'versicolor', 'versicolor', 'virginica', 'setosa'],\n",
       "      dtype=object)"
      ]
     },
     "execution_count": 8,
     "metadata": {},
     "output_type": "execute_result"
    }
   ],
   "source": [
    "le.inverse_transform([0,1,1,2,0])"
   ]
  },
  {
   "cell_type": "markdown",
   "metadata": {},
   "source": [
    "So we can transform back from the numeric to the labels. Keep this in hand, since it will prove useful after\n",
    "we have done some predictions using a ML model, which will give numeric predictions. "
   ]
  },
  {
   "cell_type": "markdown",
   "metadata": {},
   "source": [
    "### Transforming the predictors\n",
    "\n",
    "Let's look at a second example. The `diamonds` dataset has several categorical variables that would need to be transformed. "
   ]
  },
  {
   "cell_type": "code",
   "execution_count": 9,
   "metadata": {
    "name": "05-python-learning-9"
   },
   "outputs": [],
   "source": [
    "diamonds = pd.read_csv('data/diamonds.csv.gz')\n",
    "\n",
    "y = diamonds.pop('price').values\n",
    "X = pd.get_dummies(diamonds)\n",
    "\n",
    "# Alternatively\n",
    "# import patsy\n",
    "# f = '~ np.log(carat) +  + clarity + depth + cut * color'\n",
    "# X = patsy.dmatrix(f, data=diamonds)"
   ]
  },
  {
   "cell_type": "code",
   "execution_count": 10,
   "metadata": {
    "name": "05-python-learning-10"
   },
   "outputs": [
    {
     "data": {
      "text/plain": [
       "pandas.core.frame.DataFrame"
      ]
     },
     "execution_count": 10,
     "metadata": {},
     "output_type": "execute_result"
    }
   ],
   "source": [
    "type(X)"
   ]
  },
  {
   "cell_type": "code",
   "execution_count": 11,
   "metadata": {
    "name": "05-python-learning-11"
   },
   "outputs": [
    {
     "name": "stdout",
     "output_type": "stream",
     "text": [
      "<class 'pandas.core.frame.DataFrame'>\n",
      "RangeIndex: 53940 entries, 0 to 53939\n",
      "Data columns (total 26 columns):\n",
      " #   Column         Non-Null Count  Dtype  \n",
      "---  ------         --------------  -----  \n",
      " 0   carat          53940 non-null  float64\n",
      " 1   depth          53940 non-null  float64\n",
      " 2   table          53940 non-null  float64\n",
      " 3   x              53940 non-null  float64\n",
      " 4   y              53940 non-null  float64\n",
      " 5   z              53940 non-null  float64\n",
      " 6   cut_Fair       53940 non-null  uint8  \n",
      " 7   cut_Good       53940 non-null  uint8  \n",
      " 8   cut_Ideal      53940 non-null  uint8  \n",
      " 9   cut_Premium    53940 non-null  uint8  \n",
      " 10  cut_Very Good  53940 non-null  uint8  \n",
      " 11  color_D        53940 non-null  uint8  \n",
      " 12  color_E        53940 non-null  uint8  \n",
      " 13  color_F        53940 non-null  uint8  \n",
      " 14  color_G        53940 non-null  uint8  \n",
      " 15  color_H        53940 non-null  uint8  \n",
      " 16  color_I        53940 non-null  uint8  \n",
      " 17  color_J        53940 non-null  uint8  \n",
      " 18  clarity_I1     53940 non-null  uint8  \n",
      " 19  clarity_IF     53940 non-null  uint8  \n",
      " 20  clarity_SI1    53940 non-null  uint8  \n",
      " 21  clarity_SI2    53940 non-null  uint8  \n",
      " 22  clarity_VS1    53940 non-null  uint8  \n",
      " 23  clarity_VS2    53940 non-null  uint8  \n",
      " 24  clarity_VVS1   53940 non-null  uint8  \n",
      " 25  clarity_VVS2   53940 non-null  uint8  \n",
      "dtypes: float64(6), uint8(20)\n",
      "memory usage: 3.5 MB\n"
     ]
    }
   ],
   "source": [
    "X.info()"
   ]
  },
  {
   "cell_type": "markdown",
   "metadata": {},
   "source": [
    "So everything is now numeric!!. Let's take a peek inside."
   ]
  },
  {
   "cell_type": "code",
   "execution_count": 12,
   "metadata": {
    "name": "05-python-learning-12"
   },
   "outputs": [
    {
     "data": {
      "text/plain": [
       "Index(['carat', 'depth', 'table', 'x', 'y', 'z', 'cut_Fair', 'cut_Good',\n",
       "       'cut_Ideal', 'cut_Premium', 'cut_Very Good', 'color_D', 'color_E',\n",
       "       'color_F', 'color_G', 'color_H', 'color_I', 'color_J', 'clarity_I1',\n",
       "       'clarity_IF', 'clarity_SI1', 'clarity_SI2', 'clarity_VS1',\n",
       "       'clarity_VS2', 'clarity_VVS1', 'clarity_VVS2'],\n",
       "      dtype='object')"
      ]
     },
     "execution_count": 12,
     "metadata": {},
     "output_type": "execute_result"
    }
   ],
   "source": [
    "X.columns"
   ]
  },
  {
   "cell_type": "markdown",
   "metadata": {},
   "source": [
    "So, it looks like the continuous variables remain intact, but the categorical variables got exploded out. Each\n",
    "variable name has a level with it, which represents the particular level it is representing. Each of these \n",
    "variables, called dummy variables, are numerical 0/1 variables. For example, `color_F` is 1 for those diamonds which have color F, and 0 otherwise. "
   ]
  },
  {
   "cell_type": "code",
   "execution_count": 13,
   "metadata": {
    "lines_to_next_cell": 0,
    "name": "05-python-learning-13"
   },
   "outputs": [
    {
     "data": {
      "text/html": [
       "<div>\n",
       "<style scoped>\n",
       "    .dataframe tbody tr th:only-of-type {\n",
       "        vertical-align: middle;\n",
       "    }\n",
       "\n",
       "    .dataframe tbody tr th {\n",
       "        vertical-align: top;\n",
       "    }\n",
       "\n",
       "    .dataframe thead th {\n",
       "        text-align: right;\n",
       "    }\n",
       "</style>\n",
       "<table border=\"1\" class=\"dataframe\">\n",
       "  <thead>\n",
       "    <tr style=\"text-align: right;\">\n",
       "      <th>color</th>\n",
       "      <th>D</th>\n",
       "      <th>E</th>\n",
       "      <th>F</th>\n",
       "      <th>G</th>\n",
       "      <th>H</th>\n",
       "      <th>I</th>\n",
       "      <th>J</th>\n",
       "    </tr>\n",
       "    <tr>\n",
       "      <th>color_F</th>\n",
       "      <th></th>\n",
       "      <th></th>\n",
       "      <th></th>\n",
       "      <th></th>\n",
       "      <th></th>\n",
       "      <th></th>\n",
       "      <th></th>\n",
       "    </tr>\n",
       "  </thead>\n",
       "  <tbody>\n",
       "    <tr>\n",
       "      <th>0</th>\n",
       "      <td>6775</td>\n",
       "      <td>9797</td>\n",
       "      <td>0</td>\n",
       "      <td>11292</td>\n",
       "      <td>8304</td>\n",
       "      <td>5422</td>\n",
       "      <td>2808</td>\n",
       "    </tr>\n",
       "    <tr>\n",
       "      <th>1</th>\n",
       "      <td>0</td>\n",
       "      <td>0</td>\n",
       "      <td>9542</td>\n",
       "      <td>0</td>\n",
       "      <td>0</td>\n",
       "      <td>0</td>\n",
       "      <td>0</td>\n",
       "    </tr>\n",
       "  </tbody>\n",
       "</table>\n",
       "</div>"
      ],
      "text/plain": [
       "color       D     E     F      G     H     I     J\n",
       "color_F                                           \n",
       "0        6775  9797     0  11292  8304  5422  2808\n",
       "1           0     0  9542      0     0     0     0"
      ]
     },
     "execution_count": 13,
     "metadata": {},
     "output_type": "execute_result"
    }
   ],
   "source": [
    "pd.crosstab(X['color_F'], diamonds['color'])"
   ]
  },
  {
   "cell_type": "markdown",
   "metadata": {},
   "source": [
    "## The methods\n",
    "\n",
    "We will first look at supervised learning methods. \n",
    "\n",
    "| ML method               | Code to call it                                              |\n",
    "| ----------------------- | ------------------------------------------------------------ |\n",
    "| Decision Tree           | `sklearn.tree.DecisionTreeClassifier`, `sklearn.tree.DecisionTreeRegressor` |\n",
    "| Random Forest           | `sklearn.ensemble.RandomForestClassifier`, `sklearn.ensemble.RandomForestRegressor` |\n",
    "| Linear Regression       | `sklearn.linear_model.LinearRegression`                      |\n",
    "| Logistic Regression     | `sklearn.linear_model.LogisticRegression`                    |\n",
    "| Support Vector Machines | `sklearn.svm.LinearSVC`, `sklearn.svm.LinearSVR`             |\n",
    "|                         |                                                              |"
   ]
  },
  {
   "cell_type": "markdown",
   "metadata": {},
   "source": [
    "The general method that the code will follow is :\n",
    "\n",
    "```\n",
    "from sklearn.... import Machine\n",
    "machine = Machine(*parameters*)\n",
    "machine.fit(X, y)\n",
    "```\n",
    "\n",
    "### A quick example"
   ]
  },
  {
   "cell_type": "code",
   "execution_count": 14,
   "metadata": {
    "name": "05-python-learning-14"
   },
   "outputs": [],
   "source": [
    "from sklearn.linear_model import LinearRegression\n",
    "from sklearn.tree import DecisionTreeRegressor\n",
    "\n",
    "lm = LinearRegression()\n",
    "dt = DecisionTreeRegressor()"
   ]
  },
  {
   "cell_type": "markdown",
   "metadata": {},
   "source": [
    "Lets manufacture some data"
   ]
  },
  {
   "cell_type": "code",
   "execution_count": 15,
   "metadata": {
    "lines_to_next_cell": 2,
    "name": "05-python-learning-15"
   },
   "outputs": [
    {
     "data": {
      "image/png": "[encoded data removed]",
      "text/plain": [
       "<Figure size 436.375x360 with 1 Axes>"
      ]
     },
     "metadata": {
      "needs_background": "light"
     },
     "output_type": "display_data"
    }
   ],
   "source": [
    "x = np.linspace(0, 10, 200)\n",
    "y = 2 + 3*x - 5*(x**2)\n",
    "d = pd.DataFrame({'x': x})\n",
    "\n",
    "lm.fit(d,y)\n",
    "dt.fit(d, y)\n",
    "\n",
    "p1 = lm.predict(d)\n",
    "p2 = dt.predict(d)\n",
    "\n",
    "d['y'] = y\n",
    "d['lm'] = p1\n",
    "d['dt'] = p2\n",
    "\n",
    "D = pd.melt(d, id_vars = 'x')\n",
    "\n",
    "sns.relplot(data=D, x = 'x', y = 'value', hue = 'variable')\n",
    "plt.show()"
   ]
  },
  {
   "cell_type": "markdown",
   "metadata": {},
   "source": [
    "## A data analytic example"
   ]
  },
  {
   "cell_type": "code",
   "execution_count": 16,
   "metadata": {
    "name": "05-python-learning-16"
   },
   "outputs": [
    {
     "name": "stdout",
     "output_type": "stream",
     "text": [
      "<class 'pandas.core.frame.DataFrame'>\n",
      "RangeIndex: 53940 entries, 0 to 53939\n",
      "Data columns (total 10 columns):\n",
      " #   Column   Non-Null Count  Dtype  \n",
      "---  ------   --------------  -----  \n",
      " 0   carat    53940 non-null  float64\n",
      " 1   cut      53940 non-null  object \n",
      " 2   color    53940 non-null  object \n",
      " 3   clarity  53940 non-null  object \n",
      " 4   depth    53940 non-null  float64\n",
      " 5   table    53940 non-null  float64\n",
      " 6   price    53940 non-null  int64  \n",
      " 7   x        53940 non-null  float64\n",
      " 8   y        53940 non-null  float64\n",
      " 9   z        53940 non-null  float64\n",
      "dtypes: float64(6), int64(1), object(3)\n",
      "memory usage: 4.1+ MB\n"
     ]
    }
   ],
   "source": [
    "diamonds = pd.read_csv('data/diamonds.csv.gz')\n",
    "diamonds.info()"
   ]
  },
  {
   "cell_type": "markdown",
   "metadata": {},
   "source": [
    "First, lets separate out the outcome (price) and the predictors"
   ]
  },
  {
   "cell_type": "code",
   "execution_count": 17,
   "metadata": {
    "name": "05-python-learning-17"
   },
   "outputs": [],
   "source": [
    "y = diamonds.pop('price')"
   ]
  },
  {
   "cell_type": "markdown",
   "metadata": {},
   "source": [
    "For many machine learning problems, it is useful to scale the numeric predictors so that they have mean 0 and \n",
    "variance 1. First we need to separate out the categorical and numeric variables"
   ]
  },
  {
   "cell_type": "code",
   "execution_count": 18,
   "metadata": {
    "name": "05-python-learning-18"
   },
   "outputs": [],
   "source": [
    "d1 = diamonds.select_dtypes(include = 'number')\n",
    "d2 = diamonds.select_dtypes(exclude = 'number')"
   ]
  },
  {
   "cell_type": "markdown",
   "metadata": {},
   "source": [
    "Now let's scale the columns of `d1`"
   ]
  },
  {
   "cell_type": "code",
   "execution_count": 19,
   "metadata": {
    "name": "05-python-learning-19"
   },
   "outputs": [
    {
     "data": {
      "text/plain": [
       "array([[-1.19816781, -0.17409151, -1.09967199, -1.58783745, -1.53619556,\n",
       "        -1.57112919],\n",
       "       [-1.24036129, -1.36073849,  1.58552871, -1.64132529, -1.65877419,\n",
       "        -1.74117497],\n",
       "       [-1.19816781, -3.38501862,  3.37566251, -1.49869105, -1.45739502,\n",
       "        -1.74117497],\n",
       "       ...,\n",
       "       [-0.20662095,  0.73334442,  1.13799526, -0.06343409, -0.04774083,\n",
       "         0.03013526],\n",
       "       [ 0.13092691, -0.52310533,  0.24292836,  0.37338325,  0.33750627,\n",
       "         0.28520393],\n",
       "       [-0.10113725,  0.31452784, -1.09967199,  0.08811478,  0.11861587,\n",
       "         0.14349912]])"
      ]
     },
     "execution_count": 19,
     "metadata": {},
     "output_type": "execute_result"
    }
   ],
   "source": [
    "from sklearn.preprocessing import scale\n",
    "\n",
    "bl = scale(d1)\n",
    "bl"
   ]
  },
  {
   "cell_type": "markdown",
   "metadata": {},
   "source": [
    "Woops!! We get a `numpy` array, not a `DataFrame`!!"
   ]
  },
  {
   "cell_type": "code",
   "execution_count": 20,
   "metadata": {
    "name": "05-python-learning-20"
   },
   "outputs": [],
   "source": [
    "bl = pd.DataFrame(scale(d1))\n",
    "bl.columns = list(d1.columns)\n",
    "d1 = bl"
   ]
  },
  {
   "cell_type": "markdown",
   "metadata": {},
   "source": [
    "Now, let's recode the categorical variables into dummy variables."
   ]
  },
  {
   "cell_type": "code",
   "execution_count": 21,
   "metadata": {
    "name": "05-python-learning-21"
   },
   "outputs": [],
   "source": [
    "d2 = pd.get_dummies(d2)"
   ]
  },
  {
   "cell_type": "markdown",
   "metadata": {},
   "source": [
    "and put them back together"
   ]
  },
  {
   "cell_type": "code",
   "execution_count": 22,
   "metadata": {
    "name": "05-python-learning-22"
   },
   "outputs": [],
   "source": [
    "X = pd.concat([d1,d2], axis = 1)"
   ]
  },
  {
   "cell_type": "markdown",
   "metadata": {},
   "source": [
    "Next we need to split the data into a training set and a test set. Usually we do this as an 80/20 split. \n",
    "The purpose of the test set is to see how well the model works on an \"external\" data set. We don't touch the \n",
    "test set until we're done with all our model building in the training set. We usually do the split using \n",
    "random numbers. We'll put 40,000 observations in the training set.\n"
   ]
  },
  {
   "cell_type": "code",
   "execution_count": 23,
   "metadata": {
    "lines_to_next_cell": 2,
    "name": "05-python-learning-23"
   },
   "outputs": [],
   "source": [
    "ind = list(X.index)\n",
    "np.random.shuffle(ind)\n",
    "\n",
    "X_train, y_train = X.loc[ind[:40000],:], y[ind[:40000]]\n",
    "X_test, y_test = X.loc[ind[40000:],:], y[ind[40000:]]"
   ]
  },
  {
   "cell_type": "markdown",
   "metadata": {},
   "source": [
    "There is another way to do this"
   ]
  },
  {
   "cell_type": "code",
   "execution_count": 24,
   "metadata": {
    "name": "05-python-learning-24"
   },
   "outputs": [],
   "source": [
    "from sklearn.model_selection import train_test_split\n",
    "\n",
    "X_train, X_test, y_train, y_test = train_test_split(X, y , test_size = 0.2, random_state= 40)"
   ]
  },
  {
   "cell_type": "markdown",
   "metadata": {},
   "source": [
    "Now we will fit our models to the training data. Let's use a decision tree model, a random forest model, and a linear regression."
   ]
  },
  {
   "cell_type": "code",
   "execution_count": 25,
   "metadata": {
    "lines_to_next_cell": 2,
    "name": "05-python-learning-25"
   },
   "outputs": [],
   "source": [
    "from sklearn.linear_model import LinearRegression\n",
    "from sklearn.tree import DecisionTreeRegressor\n",
    "from sklearn.ensemble import RandomForestRegressor\n",
    "\n",
    "lm = LinearRegression()\n",
    "dt = DecisionTreeRegressor()\n",
    "rf = RandomForestRegressor()"
   ]
  },
  {
   "cell_type": "markdown",
   "metadata": {},
   "source": [
    "Now we will use our training data to fit the models"
   ]
  },
  {
   "cell_type": "code",
   "execution_count": 26,
   "metadata": {
    "lines_to_next_cell": 2,
    "name": "05-python-learning-26"
   },
   "outputs": [
    {
     "data": {
      "text/plain": [
       "RandomForestRegressor()"
      ]
     },
     "execution_count": 26,
     "metadata": {},
     "output_type": "execute_result"
    }
   ],
   "source": [
    "lm.fit(X_train, y_train)\n",
    "dt.fit(X_train, y_train)\n",
    "rf.fit(X_train, y_train)"
   ]
  },
  {
   "cell_type": "markdown",
   "metadata": {},
   "source": [
    "We now need to see how well the model fit the data. We'll use the R2 statistic to be our metric of choice to evaluate the model fit."
   ]
  },
  {
   "cell_type": "code",
   "execution_count": 27,
   "metadata": {
    "name": "05-python-learning-27"
   },
   "outputs": [
    {
     "data": {
      "text/plain": [
       "'\\nLinear regression: 0.9202636015648039, \\nDecision tree: 0.9999965428396391,\\nRandom Forest: 0.9973277168190097\\n'"
      ]
     },
     "execution_count": 27,
     "metadata": {},
     "output_type": "execute_result"
    }
   ],
   "source": [
    "from sklearn.metrics import  r2_score\n",
    "\n",
    "f\"\"\"\n",
    "Linear regression: {r2_score(y_train, lm.predict(X_train))}, \n",
    "Decision tree: {r2_score(y_train, dt.predict(X_train))},\n",
    "Random Forest: {r2_score(y_train, rf.predict(X_train))}\n",
    "\"\"\"\n",
    "\n"
   ]
  },
  {
   "cell_type": "markdown",
   "metadata": {},
   "source": [
    "This is pretty amazing. However, we know that if we try and predict using the same data we used to train \n",
    "the model, we get better than expected results. One way to get a better idea about the true performance of the \n",
    "model when we will try it on external data is to do cross-validation. "
   ]
  },
  {
   "cell_type": "markdown",
   "metadata": {},
   "source": [
    "### Visualizing a decision tree\n",
    "\n",
    "**scikit-learn** provides a decent way of visualizing a decision tree using a program called _Graphviz_, which is a dedicated graph and network visualization program."
   ]
  },
  {
   "cell_type": "code",
   "execution_count": 33,
   "metadata": {},
   "outputs": [
    {
     "data": {
      "image/svg+xml": [
       "<?xml version=\"1.0\" encoding=\"UTF-8\" standalone=\"no\"?>\n",
       "<!DOCTYPE svg PUBLIC \"-//W3C//DTD SVG 1.1//EN\"\n",
       " \"http://www.w3.org/Graphics/SVG/1.1/DTD/svg11.dtd\">\n",
       "<!-- Generated by graphviz version 2.42.3 (20191010.1750)\n",
       " -->\n",
       "<!-- Title: Tree Pages: 1 -->\n",
       "<svg width=\"1206pt\" height=\"358pt\"\n",
       " viewBox=\"0.00 0.00 1206.37 358.00\" xmlns=\"http://www.w3.org/2000/svg\" xmlns:xlink=\"http://www.w3.org/1999/xlink\">\n",
       "<g id=\"graph0\" class=\"graph\" transform=\"scale(1 1) rotate(0) translate(4 354)\">\n",
       "<title>Tree</title>\n",
       "<polygon fill=\"white\" stroke=\"transparent\" points=\"-4,4 -4,-354 1202.37,-354 1202.37,4 -4,4\"/>\n",
       "<!-- 0 -->\n",
       "<g id=\"node1\" class=\"node\">\n",
       "<title>0</title>\n",
       "<path fill=\"#f9e3d3\" stroke=\"black\" d=\"M638.91,-350C638.91,-350 523.67,-350 523.67,-350 517.67,-350 511.67,-344 511.67,-338 511.67,-338 511.67,-298 511.67,-298 511.67,-292 517.67,-286 523.67,-286 523.67,-286 638.91,-286 638.91,-286 644.91,-286 650.91,-292 650.91,-298 650.91,-298 650.91,-338 650.91,-338 650.91,-344 644.91,-350 638.91,-350\"/>\n",
       "<text text-anchor=\"middle\" x=\"581.29\" y=\"-334.8\" font-family=\"Helvetica,sans-Serif\" font-size=\"14.00\">carat &lt;= 0.416</text>\n",
       "<text text-anchor=\"middle\" x=\"581.29\" y=\"-320.8\" font-family=\"Helvetica,sans-Serif\" font-size=\"14.00\">mse = 15852573.11</text>\n",
       "<text text-anchor=\"middle\" x=\"581.29\" y=\"-306.8\" font-family=\"Helvetica,sans-Serif\" font-size=\"14.00\">samples = 43152</text>\n",
       "<text text-anchor=\"middle\" x=\"581.29\" y=\"-292.8\" font-family=\"Helvetica,sans-Serif\" font-size=\"14.00\">value = 3925.87</text>\n",
       "</g>\n",
       "<!-- 1 -->\n",
       "<g id=\"node2\" class=\"node\">\n",
       "<title>1</title>\n",
       "<path fill=\"#fdf7f3\" stroke=\"black\" d=\"M487.45,-250C487.45,-250 371.14,-250 371.14,-250 365.14,-250 359.14,-244 359.14,-238 359.14,-238 359.14,-198 359.14,-198 359.14,-192 365.14,-186 371.14,-186 371.14,-186 487.45,-186 487.45,-186 493.45,-186 499.45,-192 499.45,-198 499.45,-198 499.45,-238 499.45,-238 499.45,-244 493.45,-250 487.45,-250\"/>\n",
       "<text text-anchor=\"middle\" x=\"429.29\" y=\"-234.8\" font-family=\"Helvetica,sans-Serif\" font-size=\"14.00\">y &lt;= &#45;0.183</text>\n",
       "<text text-anchor=\"middle\" x=\"429.29\" y=\"-220.8\" font-family=\"Helvetica,sans-Serif\" font-size=\"14.00\">mse = 1250735.975</text>\n",
       "<text text-anchor=\"middle\" x=\"429.29\" y=\"-206.8\" font-family=\"Helvetica,sans-Serif\" font-size=\"14.00\">samples = 27947</text>\n",
       "<text text-anchor=\"middle\" x=\"429.29\" y=\"-192.8\" font-family=\"Helvetica,sans-Serif\" font-size=\"14.00\">value = 1635.185</text>\n",
       "</g>\n",
       "<!-- 0&#45;&gt;1 -->\n",
       "<g id=\"edge1\" class=\"edge\">\n",
       "<title>0&#45;&gt;1</title>\n",
       "<path fill=\"none\" stroke=\"black\" d=\"M533.2,-285.99C518.23,-276.34 501.58,-265.61 486.07,-255.61\"/>\n",
       "<polygon fill=\"black\" stroke=\"black\" points=\"487.89,-252.62 477.59,-250.14 484.1,-258.5 487.89,-252.62\"/>\n",
       "<text text-anchor=\"middle\" x=\"482.87\" y=\"-270.38\" font-family=\"Helvetica,sans-Serif\" font-size=\"14.00\">True</text>\n",
       "</g>\n",
       "<!-- 8 -->\n",
       "<g id=\"node9\" class=\"node\">\n",
       "<title>8</title>\n",
       "<path fill=\"#f1bd97\" stroke=\"black\" d=\"M797.23,-250C797.23,-250 673.35,-250 673.35,-250 667.35,-250 661.35,-244 661.35,-238 661.35,-238 661.35,-198 661.35,-198 661.35,-192 667.35,-186 673.35,-186 673.35,-186 797.23,-186 797.23,-186 803.23,-186 809.23,-192 809.23,-198 809.23,-198 809.23,-238 809.23,-238 809.23,-244 803.23,-250 797.23,-250\"/>\n",
       "<text text-anchor=\"middle\" x=\"735.29\" y=\"-234.8\" font-family=\"Helvetica,sans-Serif\" font-size=\"14.00\">y &lt;= 1.279</text>\n",
       "<text text-anchor=\"middle\" x=\"735.29\" y=\"-220.8\" font-family=\"Helvetica,sans-Serif\" font-size=\"14.00\">mse = 15319732.951</text>\n",
       "<text text-anchor=\"middle\" x=\"735.29\" y=\"-206.8\" font-family=\"Helvetica,sans-Serif\" font-size=\"14.00\">samples = 15205</text>\n",
       "<text text-anchor=\"middle\" x=\"735.29\" y=\"-192.8\" font-family=\"Helvetica,sans-Serif\" font-size=\"14.00\">value = 8136.181</text>\n",
       "</g>\n",
       "<!-- 0&#45;&gt;8 -->\n",
       "<g id=\"edge8\" class=\"edge\">\n",
       "<title>0&#45;&gt;8</title>\n",
       "<path fill=\"none\" stroke=\"black\" d=\"M630.02,-285.99C645.19,-276.34 662.05,-265.61 677.76,-255.61\"/>\n",
       "<polygon fill=\"black\" stroke=\"black\" points=\"679.8,-258.46 686.35,-250.14 676.04,-252.56 679.8,-258.46\"/>\n",
       "<text text-anchor=\"middle\" x=\"680.93\" y=\"-270.35\" font-family=\"Helvetica,sans-Serif\" font-size=\"14.00\">False</text>\n",
       "</g>\n",
       "<!-- 2 -->\n",
       "<g id=\"node3\" class=\"node\">\n",
       "<title>2</title>\n",
       "<path fill=\"#fffdfb\" stroke=\"black\" d=\"M262.66,-150C262.66,-150 153.92,-150 153.92,-150 147.92,-150 141.92,-144 141.92,-138 141.92,-138 141.92,-98 141.92,-98 141.92,-92 147.92,-86 153.92,-86 153.92,-86 262.66,-86 262.66,-86 268.66,-86 274.66,-92 274.66,-98 274.66,-98 274.66,-138 274.66,-138 274.66,-144 268.66,-150 262.66,-150\"/>\n",
       "<text text-anchor=\"middle\" x=\"208.29\" y=\"-134.8\" font-family=\"Helvetica,sans-Serif\" font-size=\"14.00\">y &lt;= &#45;0.648</text>\n",
       "<text text-anchor=\"middle\" x=\"208.29\" y=\"-120.8\" font-family=\"Helvetica,sans-Serif\" font-size=\"14.00\">mse = 267632.084</text>\n",
       "<text text-anchor=\"middle\" x=\"208.29\" y=\"-106.8\" font-family=\"Helvetica,sans-Serif\" font-size=\"14.00\">samples = 19909</text>\n",
       "<text text-anchor=\"middle\" x=\"208.29\" y=\"-92.8\" font-family=\"Helvetica,sans-Serif\" font-size=\"14.00\">value = 1054.442</text>\n",
       "</g>\n",
       "<!-- 1&#45;&gt;2 -->\n",
       "<g id=\"edge2\" class=\"edge\">\n",
       "<title>1&#45;&gt;2</title>\n",
       "<path fill=\"none\" stroke=\"black\" d=\"M359.37,-185.99C335.37,-175.35 308.41,-163.4 283.98,-152.56\"/>\n",
       "<polygon fill=\"black\" stroke=\"black\" points=\"285.31,-149.32 274.75,-148.47 282.47,-155.72 285.31,-149.32\"/>\n",
       "</g>\n",
       "<!-- 5 -->\n",
       "<g id=\"node6\" class=\"node\">\n",
       "<title>5</title>\n",
       "<path fill=\"#fbebdf\" stroke=\"black\" d=\"M483.66,-150C483.66,-150 374.92,-150 374.92,-150 368.92,-150 362.92,-144 362.92,-138 362.92,-138 362.92,-98 362.92,-98 362.92,-92 368.92,-86 374.92,-86 374.92,-86 483.66,-86 483.66,-86 489.66,-86 495.66,-92 495.66,-98 495.66,-98 495.66,-138 495.66,-138 495.66,-144 489.66,-150 483.66,-150\"/>\n",
       "<text text-anchor=\"middle\" x=\"429.29\" y=\"-134.8\" font-family=\"Helvetica,sans-Serif\" font-size=\"14.00\">carat &lt;= 0.12</text>\n",
       "<text text-anchor=\"middle\" x=\"429.29\" y=\"-120.8\" font-family=\"Helvetica,sans-Serif\" font-size=\"14.00\">mse = 781351.904</text>\n",
       "<text text-anchor=\"middle\" x=\"429.29\" y=\"-106.8\" font-family=\"Helvetica,sans-Serif\" font-size=\"14.00\">samples = 8038</text>\n",
       "<text text-anchor=\"middle\" x=\"429.29\" y=\"-92.8\" font-family=\"Helvetica,sans-Serif\" font-size=\"14.00\">value = 3073.602</text>\n",
       "</g>\n",
       "<!-- 1&#45;&gt;5 -->\n",
       "<g id=\"edge5\" class=\"edge\">\n",
       "<title>1&#45;&gt;5</title>\n",
       "<path fill=\"none\" stroke=\"black\" d=\"M429.29,-185.99C429.29,-177.86 429.29,-168.96 429.29,-160.38\"/>\n",
       "<polygon fill=\"black\" stroke=\"black\" points=\"432.79,-160.14 429.29,-150.14 425.79,-160.14 432.79,-160.14\"/>\n",
       "</g>\n",
       "<!-- 3 -->\n",
       "<g id=\"node4\" class=\"node\">\n",
       "<title>3</title>\n",
       "<path fill=\"#ffffff\" stroke=\"black\" d=\"M112.37,-50C112.37,-50 12.21,-50 12.21,-50 6.21,-50 0.21,-44 0.21,-38 0.21,-38 0.21,-12 0.21,-12 0.21,-6 6.21,0 12.21,0 12.21,0 112.37,0 112.37,0 118.37,0 124.37,-6 124.37,-12 124.37,-12 124.37,-38 124.37,-38 124.37,-44 118.37,-50 112.37,-50\"/>\n",
       "<text text-anchor=\"middle\" x=\"62.29\" y=\"-34.8\" font-family=\"Helvetica,sans-Serif\" font-size=\"14.00\">mse = 56682.753</text>\n",
       "<text text-anchor=\"middle\" x=\"62.29\" y=\"-20.8\" font-family=\"Helvetica,sans-Serif\" font-size=\"14.00\">samples = 14037</text>\n",
       "<text text-anchor=\"middle\" x=\"62.29\" y=\"-6.8\" font-family=\"Helvetica,sans-Serif\" font-size=\"14.00\">value = 788.904</text>\n",
       "</g>\n",
       "<!-- 2&#45;&gt;3 -->\n",
       "<g id=\"edge3\" class=\"edge\">\n",
       "<title>2&#45;&gt;3</title>\n",
       "<path fill=\"none\" stroke=\"black\" d=\"M158.45,-85.94C142.56,-76.03 125.04,-65.11 109.35,-55.33\"/>\n",
       "<polygon fill=\"black\" stroke=\"black\" points=\"111.18,-52.35 100.84,-50.03 107.48,-58.29 111.18,-52.35\"/>\n",
       "</g>\n",
       "<!-- 4 -->\n",
       "<g id=\"node5\" class=\"node\">\n",
       "<title>4</title>\n",
       "<path fill=\"#fdf7f2\" stroke=\"black\" d=\"M262.66,-50C262.66,-50 153.92,-50 153.92,-50 147.92,-50 141.92,-44 141.92,-38 141.92,-38 141.92,-12 141.92,-12 141.92,-6 147.92,0 153.92,0 153.92,0 262.66,0 262.66,0 268.66,0 274.66,-6 274.66,-12 274.66,-12 274.66,-38 274.66,-38 274.66,-44 268.66,-50 262.66,-50\"/>\n",
       "<text text-anchor=\"middle\" x=\"208.29\" y=\"-34.8\" font-family=\"Helvetica,sans-Serif\" font-size=\"14.00\">mse = 200417.909</text>\n",
       "<text text-anchor=\"middle\" x=\"208.29\" y=\"-20.8\" font-family=\"Helvetica,sans-Serif\" font-size=\"14.00\">samples = 5872</text>\n",
       "<text text-anchor=\"middle\" x=\"208.29\" y=\"-6.8\" font-family=\"Helvetica,sans-Serif\" font-size=\"14.00\">value = 1689.212</text>\n",
       "</g>\n",
       "<!-- 2&#45;&gt;4 -->\n",
       "<g id=\"edge4\" class=\"edge\">\n",
       "<title>2&#45;&gt;4</title>\n",
       "<path fill=\"none\" stroke=\"black\" d=\"M208.29,-85.94C208.29,-77.68 208.29,-68.72 208.29,-60.31\"/>\n",
       "<polygon fill=\"black\" stroke=\"black\" points=\"211.79,-60.03 208.29,-50.03 204.79,-60.03 211.79,-60.03\"/>\n",
       "</g>\n",
       "<!-- 6 -->\n",
       "<g id=\"node7\" class=\"node\">\n",
       "<title>6</title>\n",
       "<path fill=\"#fbeee4\" stroke=\"black\" d=\"M412.66,-50C412.66,-50 303.92,-50 303.92,-50 297.92,-50 291.92,-44 291.92,-38 291.92,-38 291.92,-12 291.92,-12 291.92,-6 297.92,0 303.92,0 303.92,0 412.66,0 412.66,0 418.66,0 424.66,-6 424.66,-12 424.66,-12 424.66,-38 424.66,-38 424.66,-44 418.66,-50 412.66,-50\"/>\n",
       "<text text-anchor=\"middle\" x=\"358.29\" y=\"-34.8\" font-family=\"Helvetica,sans-Serif\" font-size=\"14.00\">mse = 408841.396</text>\n",
       "<text text-anchor=\"middle\" x=\"358.29\" y=\"-20.8\" font-family=\"Helvetica,sans-Serif\" font-size=\"14.00\">samples = 5742</text>\n",
       "<text text-anchor=\"middle\" x=\"358.29\" y=\"-6.8\" font-family=\"Helvetica,sans-Serif\" font-size=\"14.00\">value = 2727.454</text>\n",
       "</g>\n",
       "<!-- 5&#45;&gt;6 -->\n",
       "<g id=\"edge6\" class=\"edge\">\n",
       "<title>5&#45;&gt;6</title>\n",
       "<path fill=\"none\" stroke=\"black\" d=\"M405.06,-85.94C398.04,-76.95 390.38,-67.12 383.32,-58.07\"/>\n",
       "<polygon fill=\"black\" stroke=\"black\" points=\"385.95,-55.76 377.04,-50.03 380.43,-60.07 385.95,-55.76\"/>\n",
       "</g>\n",
       "<!-- 7 -->\n",
       "<g id=\"node8\" class=\"node\">\n",
       "<title>7</title>\n",
       "<path fill=\"#f9e3d3\" stroke=\"black\" d=\"M562.66,-50C562.66,-50 453.92,-50 453.92,-50 447.92,-50 441.92,-44 441.92,-38 441.92,-38 441.92,-12 441.92,-12 441.92,-6 447.92,0 453.92,0 453.92,0 562.66,0 562.66,0 568.66,0 574.66,-6 574.66,-12 574.66,-12 574.66,-38 574.66,-38 574.66,-44 568.66,-50 562.66,-50\"/>\n",
       "<text text-anchor=\"middle\" x=\"508.29\" y=\"-34.8\" font-family=\"Helvetica,sans-Serif\" font-size=\"14.00\">mse = 663914.604</text>\n",
       "<text text-anchor=\"middle\" x=\"508.29\" y=\"-20.8\" font-family=\"Helvetica,sans-Serif\" font-size=\"14.00\">samples = 2296</text>\n",
       "<text text-anchor=\"middle\" x=\"508.29\" y=\"-6.8\" font-family=\"Helvetica,sans-Serif\" font-size=\"14.00\">value = 3939.274</text>\n",
       "</g>\n",
       "<!-- 5&#45;&gt;7 -->\n",
       "<g id=\"edge7\" class=\"edge\">\n",
       "<title>5&#45;&gt;7</title>\n",
       "<path fill=\"none\" stroke=\"black\" d=\"M456.26,-85.94C464.14,-76.86 472.76,-66.92 480.69,-57.8\"/>\n",
       "<polygon fill=\"black\" stroke=\"black\" points=\"483.52,-59.88 487.43,-50.03 478.23,-55.29 483.52,-59.88\"/>\n",
       "</g>\n",
       "<!-- 9 -->\n",
       "<g id=\"node10\" class=\"node\">\n",
       "<title>9</title>\n",
       "<path fill=\"#f5cfb4\" stroke=\"black\" d=\"M793.45,-150C793.45,-150 677.14,-150 677.14,-150 671.14,-150 665.14,-144 665.14,-138 665.14,-138 665.14,-98 665.14,-98 665.14,-92 671.14,-86 677.14,-86 677.14,-86 793.45,-86 793.45,-86 799.45,-86 805.45,-92 805.45,-98 805.45,-98 805.45,-138 805.45,-138 805.45,-144 799.45,-150 793.45,-150\"/>\n",
       "<text text-anchor=\"middle\" x=\"735.29\" y=\"-134.8\" font-family=\"Helvetica,sans-Serif\" font-size=\"14.00\">clarity_SI2 &lt;= 0.5</text>\n",
       "<text text-anchor=\"middle\" x=\"735.29\" y=\"-120.8\" font-family=\"Helvetica,sans-Serif\" font-size=\"14.00\">mse = 4663622.549</text>\n",
       "<text text-anchor=\"middle\" x=\"735.29\" y=\"-106.8\" font-family=\"Helvetica,sans-Serif\" font-size=\"14.00\">samples = 10283</text>\n",
       "<text text-anchor=\"middle\" x=\"735.29\" y=\"-92.8\" font-family=\"Helvetica,sans-Serif\" font-size=\"14.00\">value = 6130.315</text>\n",
       "</g>\n",
       "<!-- 8&#45;&gt;9 -->\n",
       "<g id=\"edge9\" class=\"edge\">\n",
       "<title>8&#45;&gt;9</title>\n",
       "<path fill=\"none\" stroke=\"black\" d=\"M735.29,-185.99C735.29,-177.86 735.29,-168.96 735.29,-160.38\"/>\n",
       "<polygon fill=\"black\" stroke=\"black\" points=\"738.79,-160.14 735.29,-150.14 731.79,-160.14 738.79,-160.14\"/>\n",
       "</g>\n",
       "<!-- 12 -->\n",
       "<g id=\"node13\" class=\"node\">\n",
       "<title>12</title>\n",
       "<path fill=\"#ea975c\" stroke=\"black\" d=\"M1031.7,-150C1031.7,-150 908.88,-150 908.88,-150 902.88,-150 896.88,-144 896.88,-138 896.88,-138 896.88,-98 896.88,-98 896.88,-92 902.88,-86 908.88,-86 908.88,-86 1031.7,-86 1031.7,-86 1037.7,-86 1043.7,-92 1043.7,-98 1043.7,-98 1043.7,-138 1043.7,-138 1043.7,-144 1037.7,-150 1031.7,-150\"/>\n",
       "<text text-anchor=\"middle\" x=\"970.29\" y=\"-134.8\" font-family=\"Helvetica,sans-Serif\" font-size=\"14.00\">y &lt;= 1.822</text>\n",
       "<text text-anchor=\"middle\" x=\"970.29\" y=\"-120.8\" font-family=\"Helvetica,sans-Serif\" font-size=\"14.00\">mse = 11615083.581</text>\n",
       "<text text-anchor=\"middle\" x=\"970.29\" y=\"-106.8\" font-family=\"Helvetica,sans-Serif\" font-size=\"14.00\">samples = 4922</text>\n",
       "<text text-anchor=\"middle\" x=\"970.29\" y=\"-92.8\" font-family=\"Helvetica,sans-Serif\" font-size=\"14.00\">value = 12326.819</text>\n",
       "</g>\n",
       "<!-- 8&#45;&gt;12 -->\n",
       "<g id=\"edge12\" class=\"edge\">\n",
       "<title>8&#45;&gt;12</title>\n",
       "<path fill=\"none\" stroke=\"black\" d=\"M809.32,-186.13C834.13,-175.78 861.94,-164.19 887.38,-153.58\"/>\n",
       "<polygon fill=\"black\" stroke=\"black\" points=\"888.75,-156.8 896.63,-149.72 886.05,-150.34 888.75,-156.8\"/>\n",
       "</g>\n",
       "<!-- 10 -->\n",
       "<g id=\"node11\" class=\"node\">\n",
       "<title>10</title>\n",
       "<path fill=\"#f4caac\" stroke=\"black\" d=\"M720.45,-50C720.45,-50 604.14,-50 604.14,-50 598.14,-50 592.14,-44 592.14,-38 592.14,-38 592.14,-12 592.14,-12 592.14,-6 598.14,0 604.14,0 604.14,0 720.45,0 720.45,0 726.45,0 732.45,-6 732.45,-12 732.45,-12 732.45,-38 732.45,-38 732.45,-44 726.45,-50 720.45,-50\"/>\n",
       "<text text-anchor=\"middle\" x=\"662.29\" y=\"-34.8\" font-family=\"Helvetica,sans-Serif\" font-size=\"14.00\">mse = 4975525.702</text>\n",
       "<text text-anchor=\"middle\" x=\"662.29\" y=\"-20.8\" font-family=\"Helvetica,sans-Serif\" font-size=\"14.00\">samples = 7603</text>\n",
       "<text text-anchor=\"middle\" x=\"662.29\" y=\"-6.8\" font-family=\"Helvetica,sans-Serif\" font-size=\"14.00\">value = 6644.344</text>\n",
       "</g>\n",
       "<!-- 9&#45;&gt;10 -->\n",
       "<g id=\"edge10\" class=\"edge\">\n",
       "<title>9&#45;&gt;10</title>\n",
       "<path fill=\"none\" stroke=\"black\" d=\"M710.37,-85.94C703.16,-76.95 695.28,-67.12 688.02,-58.07\"/>\n",
       "<polygon fill=\"black\" stroke=\"black\" points=\"690.56,-55.64 681.57,-50.03 685.1,-60.02 690.56,-55.64\"/>\n",
       "</g>\n",
       "<!-- 11 -->\n",
       "<g id=\"node12\" class=\"node\">\n",
       "<title>11</title>\n",
       "<path fill=\"#f8dcc8\" stroke=\"black\" d=\"M870.66,-50C870.66,-50 761.92,-50 761.92,-50 755.92,-50 749.92,-44 749.92,-38 749.92,-38 749.92,-12 749.92,-12 749.92,-6 755.92,0 761.92,0 761.92,0 870.66,0 870.66,0 876.66,0 882.66,-6 882.66,-12 882.66,-12 882.66,-38 882.66,-38 882.66,-44 876.66,-50 870.66,-50\"/>\n",
       "<text text-anchor=\"middle\" x=\"816.29\" y=\"-34.8\" font-family=\"Helvetica,sans-Serif\" font-size=\"14.00\">mse = 902632.244</text>\n",
       "<text text-anchor=\"middle\" x=\"816.29\" y=\"-20.8\" font-family=\"Helvetica,sans-Serif\" font-size=\"14.00\">samples = 2680</text>\n",
       "<text text-anchor=\"middle\" x=\"816.29\" y=\"-6.8\" font-family=\"Helvetica,sans-Serif\" font-size=\"14.00\">value = 4672.047</text>\n",
       "</g>\n",
       "<!-- 9&#45;&gt;11 -->\n",
       "<g id=\"edge11\" class=\"edge\">\n",
       "<title>9&#45;&gt;11</title>\n",
       "<path fill=\"none\" stroke=\"black\" d=\"M762.94,-85.94C771.1,-76.77 780.04,-66.72 788.23,-57.52\"/>\n",
       "<polygon fill=\"black\" stroke=\"black\" points=\"790.87,-59.83 794.9,-50.03 785.64,-55.17 790.87,-59.83\"/>\n",
       "</g>\n",
       "<!-- 13 -->\n",
       "<g id=\"node14\" class=\"node\">\n",
       "<title>13</title>\n",
       "<path fill=\"#eca470\" stroke=\"black\" d=\"M1028.45,-50C1028.45,-50 912.14,-50 912.14,-50 906.14,-50 900.14,-44 900.14,-38 900.14,-38 900.14,-12 900.14,-12 900.14,-6 906.14,0 912.14,0 912.14,0 1028.45,0 1028.45,0 1034.45,0 1040.45,-6 1040.45,-12 1040.45,-12 1040.45,-38 1040.45,-38 1040.45,-44 1034.45,-50 1028.45,-50\"/>\n",
       "<text text-anchor=\"middle\" x=\"970.29\" y=\"-34.8\" font-family=\"Helvetica,sans-Serif\" font-size=\"14.00\">mse = 8612803.805</text>\n",
       "<text text-anchor=\"middle\" x=\"970.29\" y=\"-20.8\" font-family=\"Helvetica,sans-Serif\" font-size=\"14.00\">samples = 3152</text>\n",
       "<text text-anchor=\"middle\" x=\"970.29\" y=\"-6.8\" font-family=\"Helvetica,sans-Serif\" font-size=\"14.00\">value = 10919.98</text>\n",
       "</g>\n",
       "<!-- 12&#45;&gt;13 -->\n",
       "<g id=\"edge13\" class=\"edge\">\n",
       "<title>12&#45;&gt;13</title>\n",
       "<path fill=\"none\" stroke=\"black\" d=\"M970.29,-85.94C970.29,-77.68 970.29,-68.72 970.29,-60.31\"/>\n",
       "<polygon fill=\"black\" stroke=\"black\" points=\"973.79,-60.03 970.29,-50.03 966.79,-60.03 973.79,-60.03\"/>\n",
       "</g>\n",
       "<!-- 14 -->\n",
       "<g id=\"node15\" class=\"node\">\n",
       "<title>14</title>\n",
       "<path fill=\"#e58139\" stroke=\"black\" d=\"M1186.45,-50C1186.45,-50 1070.14,-50 1070.14,-50 1064.14,-50 1058.14,-44 1058.14,-38 1058.14,-38 1058.14,-12 1058.14,-12 1058.14,-6 1064.14,0 1070.14,0 1070.14,0 1186.45,0 1186.45,0 1192.45,0 1198.45,-6 1198.45,-12 1198.45,-12 1198.45,-38 1198.45,-38 1198.45,-44 1192.45,-50 1186.45,-50\"/>\n",
       "<text text-anchor=\"middle\" x=\"1128.29\" y=\"-34.8\" font-family=\"Helvetica,sans-Serif\" font-size=\"14.00\">mse = 7160525.258</text>\n",
       "<text text-anchor=\"middle\" x=\"1128.29\" y=\"-20.8\" font-family=\"Helvetica,sans-Serif\" font-size=\"14.00\">samples = 1770</text>\n",
       "<text text-anchor=\"middle\" x=\"1128.29\" y=\"-6.8\" font-family=\"Helvetica,sans-Serif\" font-size=\"14.00\">value = 14832.105</text>\n",
       "</g>\n",
       "<!-- 12&#45;&gt;14 -->\n",
       "<g id=\"edge14\" class=\"edge\">\n",
       "<title>12&#45;&gt;14</title>\n",
       "<path fill=\"none\" stroke=\"black\" d=\"M1024.22,-85.94C1041.58,-75.94 1060.74,-64.91 1077.84,-55.06\"/>\n",
       "<polygon fill=\"black\" stroke=\"black\" points=\"1079.65,-58.05 1086.57,-50.03 1076.16,-51.99 1079.65,-58.05\"/>\n",
       "</g>\n",
       "</g>\n",
       "</svg>\n"
      ],
      "text/plain": [
       "<graphviz.files.Source at 0x11f918190>"
      ]
     },
     "execution_count": 33,
     "metadata": {},
     "output_type": "execute_result"
    }
   ],
   "source": [
    "import graphviz\n",
    "from sklearn import tree\n",
    "\n",
    "dt = DecisionTreeRegressor(max_depth=3)\n",
    "dt.fit(X_train, y_train)\n",
    "dot_data = tree.export_graphviz(dt, out_file=None, \n",
    "                                feature_names = X_train.columns,\n",
    "                                filled=True, rounded=True)\n",
    "graph = graphviz.Source(dot_data);\n",
    "graph"
   ]
  },
  {
   "cell_type": "markdown",
   "metadata": {},
   "source": [
    "Alternatively,"
   ]
  },
  {
   "cell_type": "code",
   "execution_count": 35,
   "metadata": {},
   "outputs": [
    {
     "data": {
      "image/png": "[encoded data removed]",
      "text/plain": [
       "<Figure size 432x288 with 1 Axes>"
      ]
     },
     "metadata": {
      "needs_background": "light"
     },
     "output_type": "display_data"
    }
   ],
   "source": [
    "tree.plot_tree(dt);"
   ]
  },
  {
   "cell_type": "markdown",
   "metadata": {},
   "source": [
    "### Cross-validation\n",
    "\n",
    "In cross-validation, we split the dataset up into 5  equal parts randomly. We then train the \n",
    "model using 4 parts and predict the data on the 5th part. We do for all possible groups of 4 parts. We then \n",
    "consider the overall performance of prediction. \n",
    "\n",
    "![](graphs/CV5.png)\n",
    "\n",
    "There is nothing special about the 5 splits. If you use 5 splits, it is called 5-fold cross-validation (CV), if you use 10 splits, it is 10-fold CV. If you use all but one subject as training data, and that one subject as test data, and cycle through all the subjects, that is called leave-one-out CV (LOOCV). All these methods are widely used, but 5- and 10-fold CV are often used as a balance between effectiveness and computational efficiency. \n",
    "\n",
    "**scikit-learn** makes this pretty easy, using the `cross_val_score` function. "
   ]
  },
  {
   "cell_type": "code",
   "execution_count": null,
   "metadata": {
    "name": "05-python-learning-28"
   },
   "outputs": [],
   "source": [
    "from sklearn.model_selection import cross_val_score\n",
    "cv_score = cross_val_score(dt, X_train, y_train, cv=5, scoring='r2')\n",
    "f\"CV error = {np.round(np.mean(cv_score), 3)}\""
   ]
  },
  {
   "cell_type": "markdown",
   "metadata": {},
   "source": [
    "### Improving models through cross-validation\n",
    "\n",
    "The cross-validation error, as we've seen, gives us a better estimate of \n",
    "how well our model predicts on new data. We can use this to tune models by tweaking their parameters to get models that reasonably will perform better. \n",
    "\n",
    "Each model that we fit has a set of parameters that govern how it proceeds\n",
    "to fit the data. These can bee seen using the `get_params` function. "
   ]
  },
  {
   "cell_type": "code",
   "execution_count": null,
   "metadata": {},
   "outputs": [],
   "source": [
    "dt.get_params()"
   ]
  },
  {
   "cell_type": "code",
   "execution_count": null,
   "metadata": {},
   "outputs": [],
   "source": [
    "le.get_params()"
   ]
  },
  {
   "cell_type": "markdown",
   "metadata": {},
   "source": [
    "> Linear regression is entirely determined by the functional form of \n",
    "the prediction equation,i.e., the \"formula\" we use. It doesn't have any parameters to tune per se. Improving a linear regression involves playing \n",
    "with the different predictors and transforming them to improve the predictions. This involve subjects called _regression diagnostics_ and \n",
    "_feature engineering_ that we will leave to Google for now. "
   ]
  },
  {
   "cell_type": "markdown",
   "metadata": {},
   "source": [
    "We can tune different parameters for the decision tree to try and see if\n",
    "some combination of parameters can improve predictions. One way to do this,\n",
    "since we're using a computer, is a grid search. This means that we can set out sets of values of the parameters we want to tune, and the computer will go through every combination of those values to see how the model\n",
    "performs, and will provide the \"best\" model. \n",
    "\n",
    "We would specify the values as a dictionary to the function `GridSearchCV`, which would optimize based on the cross-validation error. "
   ]
  },
  {
   "cell_type": "code",
   "execution_count": null,
   "metadata": {
    "lines_to_next_cell": 2
   },
   "outputs": [],
   "source": [
    "from sklearn.model_selection import GridSearchCV\n",
    "import numpy.random as rnd\n",
    "rnd.RandomState(39358)\n",
    "\n",
    "param_grid = {'max_depth': [1,3,5,7, 10], 'min_samples_leaf': [1,5,10,20],\n",
    "  'max_features' : ['auto','sqrt']}\n",
    "\n",
    "clf = GridSearchCV(dt, param_grid, scoring = 'r2', cv = 5) # Tuning dt\n",
    "clf.fit(X_train, y_train)\n",
    "\n",
    "clf.best_estimator_\n",
    "print(clf.best_score_)"
   ]
  },
  {
   "cell_type": "markdown",
   "metadata": {},
   "source": [
    "So how does this do on the test set?"
   ]
  },
  {
   "cell_type": "code",
   "execution_count": null,
   "metadata": {
    "lines_to_next_cell": 0,
    "name": "05-python-learning-29"
   },
   "outputs": [],
   "source": [
    "p = clf.best_estimator_.predict(X_test)\n",
    "r2_score(y_test, p)"
   ]
  },
  {
   "cell_type": "markdown",
   "metadata": {},
   "source": [
    "So this predictor is doing slightly better on the test set than the training set. This is often an indicator that the model is overfitting on the data. This is probable here, given the extremely high R2 values for this model. "
   ]
  },
  {
   "cell_type": "markdown",
   "metadata": {},
   "source": [
    "### Feature selection\n",
    "\n",
    "We can also use cross-validation to do recursive feature selection (or \n",
    "backwards elimination), based on a predictive score. This is different \n",
    "from usual stepwise selection methods which are based on a succession of \n",
    "hypothesis tests. "
   ]
  },
  {
   "cell_type": "code",
   "execution_count": null,
   "metadata": {},
   "outputs": [],
   "source": [
    "from sklearn.feature_selection import RFECV\n",
    "\n",
    "selector = RFECV(lm, cv = 5, scoring = 'r2')\n",
    "selector = selector.fit(X_train, y_train)\n",
    "selector.support_\n"
   ]
  },
  {
   "cell_type": "markdown",
   "metadata": {},
   "source": [
    "The support gives the set of predictors (True) that are finally selected."
   ]
  },
  {
   "cell_type": "code",
   "execution_count": null,
   "metadata": {},
   "outputs": [],
   "source": [
    "X_train.columns[selector.support_]\n"
   ]
  },
  {
   "cell_type": "markdown",
   "metadata": {},
   "source": [
    "This is indicating that the best predictive model for the linear regression includes carat, cut, color and clarity, and width of the stone.\n",
    "\n",
    "## Logistic regression\n",
    "\n",
    "We noted that logistic regression is available both through **statsmodels** and through **scikit-learn**. Let's now try to fit a \n",
    "logistic regression model using **scikit-learn**. We will use the same\n",
    "Titanic dataset we used earlier. "
   ]
  },
  {
   "cell_type": "code",
   "execution_count": null,
   "metadata": {},
   "outputs": [],
   "source": [
    "import pandas as pd\n",
    "import statsmodels.api as sm\n",
    "import statsmodels.formula.api as smf\n",
    "from sklearn.linear_model import LogisticRegression\n",
    "\n",
    "titanic = sm.datasets.get_rdataset('Titanic','Stat2Data').data.dropna()\n",
    "titanic.info()"
   ]
  },
  {
   "cell_type": "markdown",
   "metadata": {},
   "source": [
    "We will model `Survived` on the age, sex and passenger class of passengers. "
   ]
  },
  {
   "cell_type": "code",
   "execution_count": null,
   "metadata": {},
   "outputs": [],
   "source": [
    "from sklearn.model_selection import train_test_split\n",
    "\n",
    "X = pd.get_dummies(titanic[['Age','Sex','PClass']], drop_first=True)\n",
    "y = titanic.Survived\n",
    "\n",
    "X_train, X_test, y_train, y_test = train_test_split(X, y , test_size = 0.2, random_state= 40) # 80/20 split\n",
    "\n",
    "lrm = LogisticRegression()\n",
    "lrm.fit(X_train, y_train)\n"
   ]
  },
  {
   "cell_type": "markdown",
   "metadata": {},
   "source": [
    "There are a few differences that are now evident between this model and\n",
    "the model we fit using **statsmodels**. As a reminder, we fit this model again below."
   ]
  },
  {
   "cell_type": "code",
   "execution_count": null,
   "metadata": {},
   "outputs": [],
   "source": [
    "titanic1 = titanic.loc[X_train.index,:]\n",
    "titanic2 = titanic.loc[X_test.index,:]\n",
    "mod_logistic = smf.glm('Survived ~ Age + Sex + PClass', data=titanic1,\n",
    "  family = sm.families.Binomial()).fit()\n",
    "mod_logistic.summary()"
   ]
  },
  {
   "cell_type": "markdown",
   "metadata": {},
   "source": [
    "We can see the objects that are available to us from the two models using \n",
    "`dir(lrm)` and `dir(mod_logistic)`. We find that `lrm` does not give us\n",
    "any parameter estimates, p-values or summary methods. It is much leaner, and, in line with other machine learning models, emphasizes predictions. So if you want to find associations between predictors and outcome, you will have to use the **statsmodels** version. \n",
    "\n",
    "Let's compare the predictions. "
   ]
  },
  {
   "cell_type": "code",
   "execution_count": null,
   "metadata": {},
   "outputs": [],
   "source": [
    "plt.clf()\n",
    "p1 = lrm.predict_proba(X_test)[:,1]\n",
    "p2 = mod_logistic.predict(titanic2)\n",
    "\n",
    "plt.plot(p1, p2, '.');\n",
    "plt.plot([0,1],[0,1], ':');\n",
    "plt.xlabel('scikit-learn');\n",
    "plt.ylabel('statsmodels');\n",
    "plt.title('Predictions');\n",
    "plt.show()\n"
   ]
  },
  {
   "cell_type": "markdown",
   "metadata": {},
   "source": [
    "First note that the prediction functions work a bit differently. For `lrm` we have to explicitly ask for the probability predictions, whereas those are automatically provided for `mod_logistic`. We also find that the predictions aren't exactly the same. This is because `lrm`, by default, runs a penalized regression using the lasso criteria (L2 norm), rather than the non-penalized version that `mod_logistic` runs. We can specify no penalty for `lrm` and can see much closer agreement between the two models."
   ]
  },
  {
   "cell_type": "code",
   "execution_count": null,
   "metadata": {
    "lines_to_next_cell": 0
   },
   "outputs": [],
   "source": [
    "lrm = LogisticRegression(penalty='none')\n",
    "lrm.fit(X_train, y_train)\n",
    "p1 = lrm.predict_proba(X_test)[:,1]\n",
    "\n",
    "plt.clf()\n",
    "plt.plot(p1, p2, '.');\n",
    "plt.plot([0,1],[0,1], ':');\n",
    "plt.xlabel('scikit-learn');\n",
    "plt.ylabel('statsmodels');\n",
    "plt.title('Predictions');\n",
    "plt.show()\n"
   ]
  },
  {
   "cell_type": "markdown",
   "metadata": {},
   "source": [
    "## Unsupervised learning"
   ]
  },
  {
   "cell_type": "markdown",
   "metadata": {},
   "source": [
    "Unsupervised learning is a class of machine learning methods where we are just trying to identify patterns in the data without any labels. This is in contrast to _supervised learning_, which are the modeling methods we have discussed above. \n",
    "\n",
    "Most unsupervised learning methods fall broadly into a set of algorithms called _cluster analysis_. **scikit-learn** provides several clustering algorithms. "
   ]
  },
  {
   "cell_type": "markdown",
   "metadata": {},
   "source": [
    "![](graphs/cluster_choice.png)"
   ]
  },
  {
   "cell_type": "markdown",
   "metadata": {},
   "source": [
    "We will demonstrate the two more popular choices -- K-Means and Agglomerative clustering (also known as hierarchical clustering). We will use the classic Fisher's Iris data for this demonstration."
   ]
  },
  {
   "cell_type": "code",
   "execution_count": 41,
   "metadata": {},
   "outputs": [
    {
     "data": {
      "image/png": "[encoded data removed]",
      "text/plain": [
       "<Figure size 444.75x360 with 1 Axes>"
      ]
     },
     "metadata": {
      "needs_background": "light"
     },
     "output_type": "display_data"
    }
   ],
   "source": [
    "import statsmodels.api as sm\n",
    "import pandas as pd\n",
    "import matplotlib.pyplot as plt\n",
    "import seaborn as sns\n",
    "\n",
    "from sklearn.cluster import KMeans, AgglomerativeClustering\n",
    "\n",
    "iris = sm.datasets.get_rdataset('iris').data\n",
    "sns.relplot(data=iris, x = 'Sepal.Length',y = 'Sepal.Width', hue = 'Species');"
   ]
  },
  {
   "cell_type": "markdown",
   "metadata": {},
   "source": [
    "The K-Means algorithm takes a pre-specified number of clusters as input, and then tries to find contiguous regions of the data to parse into clusters. "
   ]
  },
  {
   "cell_type": "code",
   "execution_count": 45,
   "metadata": {},
   "outputs": [],
   "source": [
    "km = KMeans(n_clusters = 3)\n",
    "km.fit(iris[['Sepal.Length','Sepal.Width']]);"
   ]
  },
  {
   "cell_type": "code",
   "execution_count": 46,
   "metadata": {},
   "outputs": [
    {
     "data": {
      "text/plain": [
       "array([0, 0, 0, 0, 0, 0, 0, 0, 0, 0, 0, 0, 0, 0, 0, 0, 0, 0, 0, 0, 0, 0,\n",
       "       0, 0, 0, 0, 0, 0, 0, 0, 0, 0, 0, 0, 0, 0, 0, 0, 0, 0, 0, 0, 0, 0,\n",
       "       0, 0, 0, 0, 0, 0, 1, 1, 1, 2, 1, 2, 1, 2, 1, 2, 2, 2, 2, 2, 2, 1,\n",
       "       2, 2, 2, 2, 2, 2, 2, 2, 1, 1, 1, 1, 2, 2, 2, 2, 2, 2, 2, 2, 1, 2,\n",
       "       2, 2, 2, 2, 2, 2, 2, 2, 2, 2, 2, 2, 1, 2, 1, 1, 1, 1, 2, 1, 1, 1,\n",
       "       1, 1, 1, 2, 2, 1, 1, 1, 1, 2, 1, 2, 1, 2, 1, 1, 2, 2, 1, 1, 1, 1,\n",
       "       1, 2, 2, 1, 1, 1, 2, 1, 1, 1, 2, 1, 1, 1, 2, 1, 1, 2], dtype=int32)"
      ]
     },
     "execution_count": 46,
     "metadata": {},
     "output_type": "execute_result"
    }
   ],
   "source": [
    "km.labels_"
   ]
  },
  {
   "cell_type": "code",
   "execution_count": 48,
   "metadata": {},
   "outputs": [
    {
     "data": {
      "image/png": "[encoded data removed]",
      "text/plain": [
       "<Figure size 445.875x360 with 1 Axes>"
      ]
     },
     "metadata": {
      "needs_background": "light"
     },
     "output_type": "display_data"
    }
   ],
   "source": [
    "iris['km_labels'] = km.labels_\n",
    "iris['km_labels'] = iris.km_labels.astype('category')\n",
    "\n",
    "sns.relplot(data=iris, x = 'Sepal.Length', y = 'Sepal.Width', \n",
    "           hue = 'km_labels');"
   ]
  },
  {
   "cell_type": "markdown",
   "metadata": {},
   "source": [
    "Agglomerative clustering takes a different approach. It starts by coalescing individual points successively, based on a distance metric and a principle for how to coalesce groups of points (called _linkage_). The number of clusters can then be determined either visually or via different cutoffs. "
   ]
  },
  {
   "cell_type": "code",
   "execution_count": 54,
   "metadata": {},
   "outputs": [
    {
     "data": {
      "text/plain": [
       "AgglomerativeClustering(distance_threshold=0, linkage='complete',\n",
       "                        n_clusters=None)"
      ]
     },
     "execution_count": 54,
     "metadata": {},
     "output_type": "execute_result"
    }
   ],
   "source": [
    "hc = AgglomerativeClustering(distance_threshold=0, n_clusters=None, \n",
    "                             linkage='complete')\n",
    "\n",
    "hc.fit(iris[['Sepal.Length','Sepal.Width']])\n"
   ]
  },
  {
   "cell_type": "code",
   "execution_count": 55,
   "metadata": {},
   "outputs": [
    {
     "data": {
      "text/plain": [
       "'complete'"
      ]
     },
     "execution_count": 55,
     "metadata": {},
     "output_type": "execute_result"
    }
   ],
   "source": [
    "hc.linkage"
   ]
  },
  {
   "cell_type": "code",
   "execution_count": 56,
   "metadata": {},
   "outputs": [
    {
     "data": {
      "image/png": "[encoded data removed]",
      "text/plain": [
       "<Figure size 432x288 with 1 Axes>"
      ]
     },
     "metadata": {
      "needs_background": "light"
     },
     "output_type": "display_data"
    }
   ],
   "source": [
    "from scipy.cluster.hierarchy import dendrogram\n",
    "\n",
    "## The following is from https://scikit-learn.org/stable/auto_examples/cluster/plot_agglomerative_dendrogram.html\n",
    "def plot_dendrogram(model, **kwargs):\n",
    "    # Create linkage matrix and then plot the dendrogram\n",
    "\n",
    "    # create the counts of samples under each node\n",
    "    counts = np.zeros(model.children_.shape[0])\n",
    "    n_samples = len(model.labels_)\n",
    "    for i, merge in enumerate(model.children_):\n",
    "        current_count = 0\n",
    "        for child_idx in merge:\n",
    "            if child_idx < n_samples:\n",
    "                current_count += 1  # leaf node\n",
    "            else:\n",
    "                current_count += counts[child_idx - n_samples]\n",
    "        counts[i] = current_count\n",
    "\n",
    "    linkage_matrix = np.column_stack([model.children_, model.distances_,\n",
    "                                      counts]).astype(float)\n",
    "\n",
    "    # Plot the corresponding dendrogram\n",
    "    dendrogram(linkage_matrix, **kwargs)\n",
    "\n",
    "plot_dendrogram(hc, truncate_mode='level', p=3)\n",
    "plt.xlabel(\"Number of points in node (or index of point if no parenthesis).\")\n",
    "plt.show()\n"
   ]
  },
  {
   "cell_type": "code",
   "execution_count": 71,
   "metadata": {},
   "outputs": [],
   "source": [
    "hc = AgglomerativeClustering( n_clusters=3,\n",
    "                             linkage='average')\n",
    "\n",
    "hc.fit(iris[['Sepal.Length','Sepal.Width']]);\n"
   ]
  },
  {
   "cell_type": "code",
   "execution_count": 72,
   "metadata": {},
   "outputs": [
    {
     "data": {
      "text/plain": [
       "array([0, 0, 0, 0, 0, 0, 0, 0, 0, 0, 0, 0, 0, 0, 0, 0, 0, 0, 0, 0, 0, 0,\n",
       "       0, 0, 0, 0, 0, 0, 0, 0, 0, 0, 0, 0, 0, 0, 0, 0, 0, 0, 0, 0, 0, 0,\n",
       "       0, 0, 0, 0, 0, 0, 2, 2, 2, 2, 2, 2, 2, 0, 2, 0, 0, 2, 2, 2, 2, 2,\n",
       "       2, 2, 2, 2, 2, 2, 2, 2, 2, 2, 2, 2, 2, 2, 2, 2, 2, 2, 2, 2, 2, 2,\n",
       "       2, 2, 2, 2, 2, 0, 2, 2, 2, 2, 0, 2, 2, 2, 1, 2, 2, 1, 0, 1, 2, 1,\n",
       "       2, 2, 2, 2, 2, 2, 2, 1, 1, 2, 2, 2, 1, 2, 2, 1, 2, 2, 2, 1, 1, 1,\n",
       "       2, 2, 2, 1, 2, 2, 2, 2, 2, 2, 2, 2, 2, 2, 2, 2, 2, 2])"
      ]
     },
     "execution_count": 72,
     "metadata": {},
     "output_type": "execute_result"
    }
   ],
   "source": [
    "hc.labels_"
   ]
  },
  {
   "cell_type": "code",
   "execution_count": 73,
   "metadata": {},
   "outputs": [
    {
     "data": {
      "image/png": "[encoded data removed]",
      "text/plain": [
       "<Figure size 442.375x360 with 1 Axes>"
      ]
     },
     "metadata": {
      "needs_background": "light"
     },
     "output_type": "display_data"
    }
   ],
   "source": [
    "iris['hc_labels'] = pd.Series(hc.labels_).astype('category')\n",
    "\n",
    "sns.relplot(data=iris, x = 'Sepal.Length', y= 'Sepal.Width', \n",
    "           hue = 'hc_labels');"
   ]
  },
  {
   "cell_type": "markdown",
   "metadata": {},
   "source": [
    "> Play around with different linkage methods to see how these clusters change. "
   ]
  }
 ],
 "metadata": {
  "jupytext": {
   "formats": "ipynb,Rmd"
  },
  "kernelspec": {
   "display_name": "Python 3",
   "language": "python",
   "name": "python3"
  },
  "language_info": {
   "codemirror_mode": {
    "name": "ipython",
    "version": 3
   },
   "file_extension": ".py",
   "mimetype": "text/x-python",
   "name": "python",
   "nbconvert_exporter": "python",
   "pygments_lexer": "ipython3",
   "version": "3.8.2"
  },
  "toc": {
   "base_numbering": 1,
   "nav_menu": {},
   "number_sections": true,
   "sideBar": true,
   "skip_h1_title": true,
   "title_cell": "Table of Contents",
   "title_sidebar": "Contents",
   "toc_cell": true,
   "toc_position": {},
   "toc_section_display": true,
   "toc_window_display": true
  }
 },
 "nbformat": 4,
 "nbformat_minor": 4
}
