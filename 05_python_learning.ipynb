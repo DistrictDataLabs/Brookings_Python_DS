{
 "cells": [
  {
   "cell_type": "markdown",
   "metadata": {
    "lines_to_next_cell": 2,
    "toc": true
   },
   "source": [
    "<h1>Table of Contents<span class=\"tocSkip\"></span></h1>\n",
    "<div class=\"toc\"><ul class=\"toc-item\"><li><span><a href=\"#Scikit-learn\" data-toc-modified-id=\"Scikit-learn-1\"><span class=\"toc-item-num\">1&nbsp;&nbsp;</span>Scikit-learn</a></span><ul class=\"toc-item\"><li><span><a href=\"#Transforming-the-outcome/target\" data-toc-modified-id=\"Transforming-the-outcome/target-1.1\"><span class=\"toc-item-num\">1.1&nbsp;&nbsp;</span>Transforming the outcome/target</a></span></li><li><span><a href=\"#Transforming-the-predictors\" data-toc-modified-id=\"Transforming-the-predictors-1.2\"><span class=\"toc-item-num\">1.2&nbsp;&nbsp;</span>Transforming the predictors</a></span></li></ul></li><li><span><a href=\"#The-methods\" data-toc-modified-id=\"The-methods-2\"><span class=\"toc-item-num\">2&nbsp;&nbsp;</span>The methods</a></span><ul class=\"toc-item\"><li><span><a href=\"#A-quick-example\" data-toc-modified-id=\"A-quick-example-2.1\"><span class=\"toc-item-num\">2.1&nbsp;&nbsp;</span>A quick example</a></span></li></ul></li><li><span><a href=\"#A-data-analytic-example\" data-toc-modified-id=\"A-data-analytic-example-3\"><span class=\"toc-item-num\">3&nbsp;&nbsp;</span>A data analytic example</a></span><ul class=\"toc-item\"><li><span><a href=\"#Cross-validation\" data-toc-modified-id=\"Cross-validation-3.1\"><span class=\"toc-item-num\">3.1&nbsp;&nbsp;</span>Cross-validation</a></span></li><li><span><a href=\"#Improving-models-through-cross-validation\" data-toc-modified-id=\"Improving-models-through-cross-validation-3.2\"><span class=\"toc-item-num\">3.2&nbsp;&nbsp;</span>Improving models through cross-validation</a></span></li><li><span><a href=\"#Feature-selection\" data-toc-modified-id=\"Feature-selection-3.3\"><span class=\"toc-item-num\">3.3&nbsp;&nbsp;</span>Feature selection</a></span></li></ul></li></ul></div>"
   ]
  },
  {
   "cell_type": "markdown",
   "metadata": {},
   "source": [
    "# Machine Learning using Python\n",
    "\n",
    "## Scikit-learn\n",
    "\n",
    "Scikit-learn (`sklearn`) is the main Python package for machine learning. It is a widely-used and well-regarded package. However, there are a couple of challenges to using it given the usual `pandas`-based data munging pipeline. \n",
    "\n",
    "1. `sklearn` requires that all inputs be numeric, and in fact, `numpy` arrays.\n",
    "1. `sklearn` requires that all categorical variables by replaced by 0/1 dummy variables\n",
    "1. `sklearn` requires us to separate the predictors from the outcome. We need to have one `X` matrix for the predictors and one `y` vector for the outcome.\n",
    "\n",
    "The big issue, of course, is the first point. Given we used `pandas` precisely because we wanted to be able to keep heterogenous data. We have to be able to convert non-numeric data to numeric. `pandas` does help us out with this problem. \n",
    "\n",
    "1. First of all, we know that all `pandas` Series and DataFrame objects can be converted to `numpy` arrays using the `values` or `to_numpy` functions. \n",
    "1. Second, we can easily extract a single variable from the data set using either the usual extracton methods or the \n",
    "`pop` function. \n",
    "1. Third, `pandas` gives us a way to convert all categorical values to numeric dummy variables using the `get_dummies` function. This is actually a more desirable solution than what you will see in cyberspace, which is to use the \n",
    "`OneHotEncoder` function from `sklearn`. \n",
    "    + This is generally fine since many machine learning models look for interactions internally and don't need them to be overtly specified. The main exceptions to this are linear and logistic regression. For those, we can use the formula methods described in the Statistical Modeling module to generate the appropriately transformed design matrix.\n",
    "    + If the outcome variable is not numeric, we can `LabelEncoder` function from the `sklearn.preprocessing` submodule to convert it. \n",
    "\n",
    "I just threw a bunch of jargon at you. Let's see what this means.\n",
    "\n",
    "### Transforming the outcome/target"
   ]
  },
  {
   "cell_type": "code",
   "execution_count": null,
   "metadata": {
    "lines_to_next_cell": 2,
    "name": "05-python-learning-1"
   },
   "outputs": [],
   "source": [
    "import numpy as np\n",
    "import pandas as pd\n",
    "import sklearn\n",
    "import statsmodels.api as sm\n",
    "import matplotlib.pyplot as plt\n",
    "import seaborn as sns\n",
    "\n",
    "iris = sm.datasets.get_rdataset('iris').data\n",
    "iris.head()"
   ]
  },
  {
   "cell_type": "markdown",
   "metadata": {},
   "source": [
    "Let's hit the first issue first. We need to separate out the outcome (the variable we want to predict) from the predictors (in this case the sepal and petal measurements). "
   ]
  },
  {
   "cell_type": "code",
   "execution_count": null,
   "metadata": {
    "name": "05-python-learning-2"
   },
   "outputs": [],
   "source": [
    "y = iris['Species']\n",
    "X = iris.drop('Species', axis = 1) # drops column, makes a copy"
   ]
  },
  {
   "cell_type": "markdown",
   "metadata": {},
   "source": [
    "Another way to do this is "
   ]
  },
  {
   "cell_type": "code",
   "execution_count": null,
   "metadata": {
    "name": "05-python-learning-3"
   },
   "outputs": [],
   "source": [
    "y = iris.pop('Species')"
   ]
  },
  {
   "cell_type": "markdown",
   "metadata": {},
   "source": [
    "If you look at this, `iris` now only has 4 columns. So we could just use `iris` after the `pop` application, as the predictor set"
   ]
  },
  {
   "cell_type": "markdown",
   "metadata": {},
   "source": [
    "We still have to update `y` to become numeric. This is where the `sklearn` functions start to be handy"
   ]
  },
  {
   "cell_type": "code",
   "execution_count": null,
   "metadata": {
    "name": "05-python-learning-4"
   },
   "outputs": [],
   "source": [
    "from sklearn.preprocessing import LabelEncoder\n",
    "le = LabelEncoder()\n",
    "y = le.fit_transform(y)\n",
    "y"
   ]
  },
  {
   "cell_type": "markdown",
   "metadata": {},
   "source": [
    "Let's talk about this code, since it's very typical of the way the `sklearn`\n",
    "code works. First, we import a method (`LabelEncoder`) from the appropriate\n",
    "`sklearn` module. The second line, `le = LabelEncoder()` works to \"turn on\" the\n",
    "method. This is like taking a power tool off the shelf and plugging it in to a\n",
    "socket. It's now ready to work. The third line does the actual work.  The\n",
    "`fit_transform` function transforms the data you input into it based on the\n",
    "method it is then attached to.\n",
    "\n",
    "> Let's make a quick analogy. You can plug in both a power washer and a\n",
    "jackhammer to get them ready to go. You can then apply each of them to your\n",
    "driveway. They \"transform\" the driveway in different ways depending on which\n",
    "tool is used. The washer would \"transform\" the driveway by cleaning it, while\n",
    "the jackhammer would transform the driveway by breaking it."
   ]
  },
  {
   "cell_type": "markdown",
   "metadata": {},
   "source": [
    "There's an interesting invisible quirk to the code, though. The object `le` also got transformed during this \n",
    "process. There were pieces added to it during the `fit_transform` process. "
   ]
  },
  {
   "cell_type": "code",
   "execution_count": null,
   "metadata": {
    "name": "05-python-learning-5"
   },
   "outputs": [],
   "source": [
    "le = LabelEncoder()\n",
    "d1 = dir(le)"
   ]
  },
  {
   "cell_type": "code",
   "execution_count": null,
   "metadata": {
    "name": "05-python-learning-6"
   },
   "outputs": [],
   "source": [
    "y = le.fit_transform( pd.read_csv('data/iris.csv')['species'])\n",
    "d2 = dir(le)\n",
    "set(d2).difference(set(d1)) # set of things in d2 but not in d1"
   ]
  },
  {
   "cell_type": "markdown",
   "metadata": {},
   "source": [
    "So we see that there is a new component added, called `classes_`. "
   ]
  },
  {
   "cell_type": "code",
   "execution_count": null,
   "metadata": {
    "name": "05-python-learning-7"
   },
   "outputs": [],
   "source": [
    "le.classes_"
   ]
  },
  {
   "cell_type": "markdown",
   "metadata": {},
   "source": [
    "So the original labels aren't destroyed; they are being stored. This can be useful."
   ]
  },
  {
   "cell_type": "code",
   "execution_count": null,
   "metadata": {
    "name": "05-python-learning-8"
   },
   "outputs": [],
   "source": [
    "le.inverse_transform([0,1,1,2,0])"
   ]
  },
  {
   "cell_type": "markdown",
   "metadata": {},
   "source": [
    "So we can transform back from the numeric to the labels. Keep this in hand, since it will prove useful after\n",
    "we have done some predictions using a ML model, which will give numeric predictions. "
   ]
  },
  {
   "cell_type": "markdown",
   "metadata": {},
   "source": [
    "### Transforming the predictors\n",
    "\n",
    "Let's look at a second example. The `diamonds` dataset has several categorical variables that would need to be transformed. "
   ]
  },
  {
   "cell_type": "code",
   "execution_count": null,
   "metadata": {
    "name": "05-python-learning-9"
   },
   "outputs": [],
   "source": [
    "diamonds = pd.read_csv('data/diamonds.csv.gz')\n",
    "\n",
    "y = diamonds.pop('price').values\n",
    "X = pd.get_dummies(diamonds)\n",
    "\n",
    "# Alternatively\n",
    "# import patsy\n",
    "# f = '~ np.log(carat) +  + clarity + depth + cut * color'\n",
    "# X = patsy.dmatrix(f, data=diamonds)"
   ]
  },
  {
   "cell_type": "code",
   "execution_count": null,
   "metadata": {
    "name": "05-python-learning-10"
   },
   "outputs": [],
   "source": [
    "type(X)"
   ]
  },
  {
   "cell_type": "code",
   "execution_count": null,
   "metadata": {
    "name": "05-python-learning-11"
   },
   "outputs": [],
   "source": [
    "X.info()"
   ]
  },
  {
   "cell_type": "markdown",
   "metadata": {},
   "source": [
    "So everything is now numeric!!. Let's take a peek inside."
   ]
  },
  {
   "cell_type": "code",
   "execution_count": null,
   "metadata": {
    "name": "05-python-learning-12"
   },
   "outputs": [],
   "source": [
    "X.columns"
   ]
  },
  {
   "cell_type": "markdown",
   "metadata": {},
   "source": [
    "So, it looks like the continuous variables remain intact, but the categorical variables got exploded out. Each\n",
    "variable name has a level with it, which represents the particular level it is representing. Each of these \n",
    "variables, called dummy variables, are numerical 0/1 variables. For example, `color_F` is 1 for those diamonds which have color F, and 0 otherwise. "
   ]
  },
  {
   "cell_type": "code",
   "execution_count": null,
   "metadata": {
    "lines_to_next_cell": 0,
    "name": "05-python-learning-13"
   },
   "outputs": [],
   "source": [
    "pd.crosstab(X['color_F'], diamonds['color'])"
   ]
  },
  {
   "cell_type": "markdown",
   "metadata": {},
   "source": [
    "## The methods\n",
    "\n",
    "We will first look at supervised learning methods. \n",
    "\n",
    "| ML method               | Code to call it                                              |\n",
    "| ----------------------- | ------------------------------------------------------------ |\n",
    "| Decision Tree           | `sklearn.tree.DecisionTreeClassifier`, `sklearn.tree.DecisionTreeRegressor` |\n",
    "| Random Forest           | `sklearn.ensemble.RandomForestClassifier`, `sklearn.ensemble.RandomForestRegressor` |\n",
    "| Linear Regression       | `sklearn.linear_model.LinearRegression`                      |\n",
    "| Logistic Regression     | `sklearn.linear_model.LogisticRegression`                    |\n",
    "| Support Vector Machines | `sklearn.svm.LinearSVC`, `sklearn.svm.LinearSVR`             |\n",
    "|                         |                                                              |"
   ]
  },
  {
   "cell_type": "markdown",
   "metadata": {},
   "source": [
    "The general method that the code will follow is :\n",
    "\n",
    "```\n",
    "from sklearn.... import Machine\n",
    "machine = Machine(*parameters*)\n",
    "machine.fit(X, y)\n",
    "```\n",
    "\n",
    "### A quick example"
   ]
  },
  {
   "cell_type": "code",
   "execution_count": null,
   "metadata": {
    "name": "05-python-learning-14"
   },
   "outputs": [],
   "source": [
    "from sklearn.linear_model import LinearRegression\n",
    "from sklearn.tree import DecisionTreeRegressor\n",
    "\n",
    "lm = LinearRegression()\n",
    "dt = DecisionTreeRegressor()"
   ]
  },
  {
   "cell_type": "markdown",
   "metadata": {},
   "source": [
    "Lets manufacture some data"
   ]
  },
  {
   "cell_type": "code",
   "execution_count": null,
   "metadata": {
    "lines_to_next_cell": 2,
    "name": "05-python-learning-15"
   },
   "outputs": [],
   "source": [
    "x = np.linspace(0, 10, 200)\n",
    "y = 2 + 3*x - 5*(x**2)\n",
    "d = pd.DataFrame({'x': x})\n",
    "\n",
    "lm.fit(d,y)\n",
    "dt.fit(d, y)\n",
    "\n",
    "p1 = lm.predict(d)\n",
    "p2 = dt.predict(d)\n",
    "\n",
    "d['y'] = y\n",
    "d['lm'] = p1\n",
    "d['dt'] = p2\n",
    "\n",
    "D = pd.melt(d, id_vars = 'x')\n",
    "\n",
    "sns.relplot(data=D, x = 'x', y = 'value', hue = 'variable')\n",
    "plt.show()"
   ]
  },
  {
   "cell_type": "markdown",
   "metadata": {},
   "source": [
    "## A data analytic example"
   ]
  },
  {
   "cell_type": "code",
   "execution_count": null,
   "metadata": {
    "name": "05-python-learning-16"
   },
   "outputs": [],
   "source": [
    "diamonds = pd.read_csv('data/diamonds.csv.gz')\n",
    "diamonds.info()"
   ]
  },
  {
   "cell_type": "markdown",
   "metadata": {},
   "source": [
    "First, lets separate out the outcome (price) and the predictors"
   ]
  },
  {
   "cell_type": "code",
   "execution_count": null,
   "metadata": {
    "name": "05-python-learning-17"
   },
   "outputs": [],
   "source": [
    "y = diamonds.pop('price')"
   ]
  },
  {
   "cell_type": "markdown",
   "metadata": {},
   "source": [
    "For many machine learning problems, it is useful to scale the numeric predictors so that they have mean 0 and \n",
    "variance 1. First we need to separate out the categorical and numeric variables"
   ]
  },
  {
   "cell_type": "code",
   "execution_count": null,
   "metadata": {
    "name": "05-python-learning-18"
   },
   "outputs": [],
   "source": [
    "d1 = diamonds.select_dtypes(include = 'number')\n",
    "d2 = diamonds.select_dtypes(exclude = 'number')"
   ]
  },
  {
   "cell_type": "markdown",
   "metadata": {},
   "source": [
    "Now let's scale the columns of `d1`"
   ]
  },
  {
   "cell_type": "code",
   "execution_count": null,
   "metadata": {
    "name": "05-python-learning-19"
   },
   "outputs": [],
   "source": [
    "from sklearn.preprocessing import scale\n",
    "\n",
    "bl = scale(d1)\n",
    "bl"
   ]
  },
  {
   "cell_type": "markdown",
   "metadata": {},
   "source": [
    "Woops!! We get a `numpy` array, not a `DataFrame`!!"
   ]
  },
  {
   "cell_type": "code",
   "execution_count": null,
   "metadata": {
    "name": "05-python-learning-20"
   },
   "outputs": [],
   "source": [
    "bl = pd.DataFrame(scale(d1))\n",
    "bl.columns = list(d1.columns)\n",
    "d1 = bl"
   ]
  },
  {
   "cell_type": "markdown",
   "metadata": {},
   "source": [
    "Now, let's recode the categorical variables into dummy variables."
   ]
  },
  {
   "cell_type": "code",
   "execution_count": null,
   "metadata": {
    "name": "05-python-learning-21"
   },
   "outputs": [],
   "source": [
    "d2 = pd.get_dummies(d2)"
   ]
  },
  {
   "cell_type": "markdown",
   "metadata": {},
   "source": [
    "and put them back together"
   ]
  },
  {
   "cell_type": "code",
   "execution_count": null,
   "metadata": {
    "name": "05-python-learning-22"
   },
   "outputs": [],
   "source": [
    "X = pd.concat([d1,d2], axis = 1)"
   ]
  },
  {
   "cell_type": "markdown",
   "metadata": {},
   "source": [
    "Next we need to split the data into a training set and a test set. Usually we do this as an 80/20 split. \n",
    "The purpose of the test set is to see how well the model works on an \"external\" data set. We don't touch the \n",
    "test set until we're done with all our model building in the training set. We usually do the split using \n",
    "random numbers. We'll put 40,000 observations in the training set.\n"
   ]
  },
  {
   "cell_type": "code",
   "execution_count": null,
   "metadata": {
    "lines_to_next_cell": 2,
    "name": "05-python-learning-23"
   },
   "outputs": [],
   "source": [
    "ind = list(X.index)\n",
    "np.random.shuffle(ind)\n",
    "\n",
    "X_train, y_train = X.loc[ind[:40000],:], y[ind[:40000]]\n",
    "X_test, y_test = X.loc[ind[40000:],:], y[ind[40000:]]"
   ]
  },
  {
   "cell_type": "markdown",
   "metadata": {},
   "source": [
    "There is another way to do this"
   ]
  },
  {
   "cell_type": "code",
   "execution_count": null,
   "metadata": {
    "name": "05-python-learning-24"
   },
   "outputs": [],
   "source": [
    "from sklearn.model_selection import train_test_split\n",
    "\n",
    "X_train, X_test, y_train, y_test = train_test_split(X, y , test_size = 0.2, random_state= 40)"
   ]
  },
  {
   "cell_type": "markdown",
   "metadata": {},
   "source": [
    "Now we will fit our models to the training data. Let's use a decision tree model, a random forest model, and a linear regression."
   ]
  },
  {
   "cell_type": "code",
   "execution_count": null,
   "metadata": {
    "lines_to_next_cell": 2,
    "name": "05-python-learning-25"
   },
   "outputs": [],
   "source": [
    "from sklearn.linear_model import LinearRegression\n",
    "from sklearn.tree import DecisionTreeRegressor\n",
    "from sklearn.ensemble import RandomForestRegressor\n",
    "\n",
    "lm = LinearRegression()\n",
    "dt = DecisionTreeRegressor()\n",
    "rf = RandomForestRegressor()"
   ]
  },
  {
   "cell_type": "markdown",
   "metadata": {},
   "source": [
    "Now we will use our training data to fit the models"
   ]
  },
  {
   "cell_type": "code",
   "execution_count": null,
   "metadata": {
    "lines_to_next_cell": 2,
    "name": "05-python-learning-26"
   },
   "outputs": [],
   "source": [
    "lm.fit(X_train, y_train)\n",
    "dt.fit(X_train, y_train)\n",
    "rf.fit(X_train, y_train)"
   ]
  },
  {
   "cell_type": "markdown",
   "metadata": {},
   "source": [
    "We now need to see how well the model fit the data. We'll use the R2 statistic to be our metric of choice to evaluate the model fit."
   ]
  },
  {
   "cell_type": "code",
   "execution_count": null,
   "metadata": {
    "name": "05-python-learning-27"
   },
   "outputs": [],
   "source": [
    "from sklearn.metrics import  r2_score\n",
    "\n",
    "f\"\"\"\n",
    "Linear regression: {r2_score(y_train, lm.predict(X_train))}, \n",
    "Decision tree: {r2_score(y_train, dt.predict(X_train))},\n",
    "Random Forest: {r2_score(y_train, rf.predict(X_train))}\n",
    "\"\"\"\n",
    "\n"
   ]
  },
  {
   "cell_type": "markdown",
   "metadata": {},
   "source": [
    "This is pretty amazing. However, we know that if we try and predict using the same data we used to train \n",
    "the model, we get better than expected results. One way to get a better idea about the true performance of the \n",
    "model when we will try it on external data is to do cross-validation. "
   ]
  },
  {
   "cell_type": "markdown",
   "metadata": {},
   "source": [
    "### Cross-validation\n",
    "\n",
    "In cross-validation, we split the dataset up into 5  equal parts randomly. We then train the \n",
    "model using 4 parts and predict the data on the 5th part. We do for all possible groups of 4 parts. We then \n",
    "consider the overall performance of prediction. \n",
    "\n",
    "![](graphs/CV5.png)\n",
    "\n",
    "There is nothing special about the 5 splits. If you use 5 splits, it is called 5-fold cross-validation (CV), if you use 10 splits, it is 10-fold CV. If you use all but one subject as training data, and that one subject as test data, and cycle through all the subjects, that is called leave-one-out CV (LOOCV). All these methods are widely used, but 5- and 10-fold CV are often used as a balance between effectiveness and computational efficiency. \n",
    "\n",
    "**scikit-learn** makes this pretty easy, using the `cross_val_score` function. "
   ]
  },
  {
   "cell_type": "code",
   "execution_count": null,
   "metadata": {
    "name": "05-python-learning-28"
   },
   "outputs": [],
   "source": [
    "from sklearn.model_selection import cross_val_score\n",
    "cv_score = cross_val_score(dt, X_train, y_train, cv=5, scoring='r2')\n",
    "f\"CV error = {np.round(np.mean(cv_score), 3)}\""
   ]
  },
  {
   "cell_type": "markdown",
   "metadata": {},
   "source": [
    "### Improving models through cross-validation\n",
    "\n",
    "The cross-validation error, as we've seen, gives us a better estimate of \n",
    "how well our model predicts on new data. We can use this to tune models by tweaking their parameters to get models that reasonably will perform better. \n",
    "\n",
    "Each model that we fit has a set of parameters that govern how it proceeds\n",
    "to fit the data. These can bee seen using the `get_params` function. "
   ]
  },
  {
   "cell_type": "code",
   "execution_count": null,
   "metadata": {},
   "outputs": [],
   "source": [
    "dt.get_params()"
   ]
  },
  {
   "cell_type": "code",
   "execution_count": null,
   "metadata": {},
   "outputs": [],
   "source": [
    "le.get_params()"
   ]
  },
  {
   "cell_type": "markdown",
   "metadata": {},
   "source": [
    "> Linear regression is entirely determined by the functional form of \n",
    "the prediction equation,i.e., the \"formula\" we use. It doesn't have any parameters to tune per se. Improving a linear regression involves playing \n",
    "with the different predictors and transforming them to improve the predictions. This involve subjects called _regression diagnostics_ and \n",
    "_feature engineering_ that we will leave to Google for now. "
   ]
  },
  {
   "cell_type": "markdown",
   "metadata": {},
   "source": [
    "We can tune different parameters for the decision tree to try and see if\n",
    "some combination of parameters can improve predictions. One way to do this,\n",
    "since we're using a computer, is a grid search. This means that we can set out sets of values of the parameters we want to tune, and the computer will go through every combination of those values to see how the model\n",
    "performs, and will provide the \"best\" model. \n",
    "\n",
    "We would specify the values as a dictionary to the function `GridSearchCV`, which would optimize based on the cross-validation error. "
   ]
  },
  {
   "cell_type": "code",
   "execution_count": null,
   "metadata": {
    "lines_to_next_cell": 2
   },
   "outputs": [],
   "source": [
    "from sklearn.model_selection import GridSearchCV\n",
    "import numpy.random as rnd\n",
    "rnd.RandomState(39358)\n",
    "\n",
    "param_grid = {'max_depth': [1,3,5,7, 10], 'min_samples_leaf': [1,5,10,20],\n",
    "  'max_features' : ['auto','sqrt']}\n",
    "\n",
    "clf = GridSearchCV(dt, param_grid, scoring = 'r2', cv = 5) # Tuning dt\n",
    "clf.fit(X_train, y_train)\n",
    "\n",
    "clf.best_estimator_\n",
    "print(clf.best_score_)"
   ]
  },
  {
   "cell_type": "markdown",
   "metadata": {},
   "source": [
    "So how does this do on the test set?"
   ]
  },
  {
   "cell_type": "code",
   "execution_count": null,
   "metadata": {
    "lines_to_next_cell": 0,
    "name": "05-python-learning-29"
   },
   "outputs": [],
   "source": [
    "p = clf.best_estimator_.predict(X_test)\n",
    "r2_score(y_test, p)"
   ]
  },
  {
   "cell_type": "markdown",
   "metadata": {},
   "source": [
    "So this predictor is doing slightly better on the test set than the training set. This is often an indicator that the model is overfitting on the data. This is probable here, given the extremely high R2 values for this model. "
   ]
  },
  {
   "cell_type": "markdown",
   "metadata": {},
   "source": [
    "### Feature selection\n",
    "\n",
    "We can also use cross-validation to do recursive feature selection (or \n",
    "backwards elimination), based on a predictive score. This is different \n",
    "from usual stepwise selection methods which are based on a succession of \n",
    "hypothesis tests. "
   ]
  },
  {
   "cell_type": "code",
   "execution_count": null,
   "metadata": {},
   "outputs": [],
   "source": [
    "from sklearn.feature_selection import RFECV\n",
    "\n",
    "selector = RFECV(lm, cv = 5, scoring = 'r2')\n",
    "selector = selector.fit(X_train, y_train)\n",
    "selector.support_\n"
   ]
  },
  {
   "cell_type": "markdown",
   "metadata": {},
   "source": [
    "The support gives the set of predictors (True) that are finally selected."
   ]
  },
  {
   "cell_type": "code",
   "execution_count": null,
   "metadata": {},
   "outputs": [],
   "source": [
    "X_train.columns[selector.support_]\n"
   ]
  },
  {
   "cell_type": "markdown",
   "metadata": {},
   "source": [
    "This is indicating that the best predictive model for the linear regression includes carat, cut, color and clarity, and width of the stone.\n",
    "\n",
    "## Logistic regression\n",
    "\n",
    "We noted that logistic regression is available both through **statsmodels** and through **scikit-learn**. Let's now try to fit a \n",
    "logistic regression model using **scikit-learn**. We will use the same\n",
    "Titanic dataset we used earlier. "
   ]
  },
  {
   "cell_type": "code",
   "execution_count": null,
   "metadata": {},
   "outputs": [],
   "source": [
    "import pandas as pd\n",
    "import statsmodels.api as sm\n",
    "import statsmodels.formula.api as smf\n",
    "from sklearn.linear_model import LogisticRegression\n",
    "\n",
    "titanic = sm.datasets.get_rdataset('Titanic','Stat2Data').data.dropna()\n",
    "titanic.info()"
   ]
  },
  {
   "cell_type": "markdown",
   "metadata": {},
   "source": [
    "We will model `Survived` on the age, sex and passenger class of passengers. "
   ]
  },
  {
   "cell_type": "code",
   "execution_count": null,
   "metadata": {},
   "outputs": [],
   "source": [
    "from sklearn.model_selection import train_test_split\n",
    "\n",
    "X = pd.get_dummies(titanic[['Age','Sex','PClass']], drop_first=True)\n",
    "y = titanic.Survived\n",
    "\n",
    "X_train, X_test, y_train, y_test = train_test_split(X, y , test_size = 0.2, random_state= 40) # 80/20 split\n",
    "\n",
    "lrm = LogisticRegression()\n",
    "lrm.fit(X_train, y_train)\n"
   ]
  },
  {
   "cell_type": "markdown",
   "metadata": {},
   "source": [
    "There are a few differences that are now evident between this model and\n",
    "the model we fit using **statsmodels**. As a reminder, we fit this model again below."
   ]
  },
  {
   "cell_type": "code",
   "execution_count": null,
   "metadata": {},
   "outputs": [],
   "source": [
    "titanic1 = titanic.loc[X_train.index,:]\n",
    "titanic2 = titanic.loc[X_test.index,:]\n",
    "mod_logistic = smf.glm('Survived ~ Age + Sex + PClass', data=titanic1,\n",
    "  family = sm.families.Binomial()).fit()\n",
    "mod_logistic.summary()"
   ]
  },
  {
   "cell_type": "markdown",
   "metadata": {},
   "source": [
    "We can see the objects that are available to us from the two models using \n",
    "`dir(lrm)` and `dir(mod_logistic)`. We find that `lrm` does not give us\n",
    "any parameter estimates, p-values or summary methods. It is much leaner, and, in line with other machine learning models, emphasizes predictions. So if you want to find associations between predictors and outcome, you will have to use the **statsmodels** version. \n",
    "\n",
    "Let's compare the predictions. "
   ]
  },
  {
   "cell_type": "code",
   "execution_count": null,
   "metadata": {},
   "outputs": [],
   "source": [
    "plt.clf()\n",
    "p1 = lrm.predict_proba(X_test)[:,1]\n",
    "p2 = mod_logistic.predict(titanic2)\n",
    "\n",
    "plt.plot(p1, p2, '.');\n",
    "plt.plot([0,1],[0,1], ':');\n",
    "plt.xlabel('scikit-learn');\n",
    "plt.ylabel('statsmodels');\n",
    "plt.title('Predictions');\n",
    "plt.show()\n"
   ]
  },
  {
   "cell_type": "markdown",
   "metadata": {},
   "source": [
    "First note that the prediction functions work a bit differently. For `lrm` we have to explicitly ask for the probability predictions, whereas those are automatically provided for `mod_logistic`. We also find that the predictions aren't exactly the same. This is because `lrm`, by default, runs a penalized regression using the lasso criteria (L2 norm), rather than the non-penalized version that `mod_logistic` runs. We can specify no penalty for `lrm` and can see much closer agreement between the two models."
   ]
  },
  {
   "cell_type": "code",
   "execution_count": null,
   "metadata": {
    "lines_to_next_cell": 0
   },
   "outputs": [],
   "source": [
    "lrm = LogisticRegression(penalty='none')\n",
    "lrm.fit(X_train, y_train)\n",
    "p1 = lrm.predict_proba(X_test)[:,1]\n",
    "\n",
    "plt.clf()\n",
    "plt.plot(p1, p2, '.');\n",
    "plt.plot([0,1],[0,1], ':');\n",
    "plt.xlabel('scikit-learn');\n",
    "plt.ylabel('statsmodels');\n",
    "plt.title('Predictions');\n",
    "plt.show()\n"
   ]
  },
  {
   "cell_type": "markdown",
   "metadata": {},
   "source": []
  }
 ],
 "metadata": {
  "jupytext": {
   "formats": "ipynb,Rmd"
  },
  "kernelspec": {
   "display_name": "Python 3",
   "language": "python",
   "name": "python3"
  },
  "language_info": {
   "codemirror_mode": {
    "name": "ipython",
    "version": 3
   },
   "file_extension": ".py",
   "mimetype": "text/x-python",
   "name": "python",
   "nbconvert_exporter": "python",
   "pygments_lexer": "ipython3",
   "version": "3.8.2"
  },
  "toc": {
   "base_numbering": 1,
   "nav_menu": {},
   "number_sections": true,
   "sideBar": true,
   "skip_h1_title": true,
   "title_cell": "Table of Contents",
   "title_sidebar": "Contents",
   "toc_cell": true,
   "toc_position": {},
   "toc_section_display": true,
   "toc_window_display": false
  }
 },
 "nbformat": 4,
 "nbformat_minor": 4
}
